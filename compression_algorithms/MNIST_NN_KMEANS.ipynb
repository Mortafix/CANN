{
 "cells": [
  {
   "cell_type": "markdown",
   "metadata": {},
   "source": [
    "# MNIST NEURAL NWTWORK WITH K-MEANS"
   ]
  },
  {
   "cell_type": "markdown",
   "metadata": {},
   "source": [
    "### Initial Settings (import and variables)"
   ]
  },
  {
   "cell_type": "code",
   "execution_count": 1,
   "metadata": {},
   "outputs": [],
   "source": [
    "import numpy as np\n",
    "import time\n",
    "import math\n",
    "import struct\n",
    "from matplotlib import pyplot\n",
    "import matplotlib as mpl\n",
    "import datetime as dt\n",
    "from sklearn.cluster import KMeans\n",
    "from sklearn.datasets.samples_generator import make_blobs\n",
    "from sklearn.metrics import pairwise_distances_argmin_min"
   ]
  },
  {
   "cell_type": "code",
   "execution_count": 2,
   "metadata": {},
   "outputs": [],
   "source": [
    "DATA_PATH = 'data/mnist/'\n",
    "\n",
    "IMAGES_TRAIN_NAME = 'train-images.idx3-ubyte'\n",
    "LABELS_TRAIN_NAME = 'train-labels.idx1-ubyte'\n",
    "IMAGES_TEST_NAME = 't10k-images.idx3-ubyte'\n",
    "LABELS_TEST_NAME = 't10k-labels.idx1-ubyte'\n",
    "\n",
    "RANDOM_SEED = 42\n",
    "N_CLASSES = 10\n",
    "N_FEATURES = 28 * 28"
   ]
  },
  {
   "cell_type": "markdown",
   "metadata": {},
   "source": [
    "### Support Functions for Loading and Showig Data"
   ]
  },
  {
   "cell_type": "code",
   "execution_count": 3,
   "metadata": {},
   "outputs": [],
   "source": [
    "def timing(f):\n",
    "    def wrap(*args):\n",
    "        time1 = time.time()\n",
    "        ret = f(*args)\n",
    "        time2 = time.time()\n",
    "        print('%s function took %0.2f ms' % (f.__name__, (time2-time1)*1000.0))\n",
    "        return ret\n",
    "    return wrap\n",
    "\n",
    "def load_data(one_hot=True, reshape=None, validation_size=10000):\n",
    "    x_tr = load_images(DATA_PATH+IMAGES_TRAIN_NAME)\n",
    "    y_tr = load_labels(DATA_PATH+LABELS_TRAIN_NAME)\n",
    "    x_te = load_images(DATA_PATH+IMAGES_TEST_NAME)\n",
    "    y_te = load_labels(DATA_PATH+LABELS_TEST_NAME)\n",
    "\n",
    "    x_tr = x_tr[:-validation_size]\n",
    "    y_tr = y_tr[:-validation_size]\n",
    "\n",
    "    if one_hot:\n",
    "        y_tr, y_te = [to_one_hot(y) for y in (y_tr, y_te)]\n",
    "\n",
    "    if reshape:\n",
    "        x_tr, x_te = [x.reshape(*reshape) for x in (x_tr, x_te)]\n",
    "\n",
    "    return x_tr, y_tr, x_te, y_te\n",
    "\n",
    "def load_images(filename):\n",
    "    with open(filename, 'rb') as f:\n",
    "        data = np.frombuffer(f.read(), np.uint8, offset=16)\n",
    "    return data.reshape(-1, 28 * 28) / np.float32(256)\n",
    "\n",
    "def load_labels(filename):\n",
    "    with open(filename, 'rb') as f:\n",
    "        data = np.frombuffer(f.read(), np.uint8, offset=8)\n",
    "    return data\n",
    "\n",
    "def to_one_hot(labels, num_classes=10):\n",
    "    return np.eye(num_classes)[labels]"
   ]
  },
  {
   "cell_type": "code",
   "execution_count": 4,
   "metadata": {},
   "outputs": [
    {
     "data": {
      "image/png": "[encoded data removed]",
      "text/plain": [
       "<matplotlib.figure.Figure at 0x10cbe8d68>"
      ]
     },
     "metadata": {},
     "output_type": "display_data"
    }
   ],
   "source": [
    "def show_digit(images,labels,idx):\n",
    "    image = np.array_split((images[idx] * 255).astype(np.uint8),28)\n",
    "    fig = pyplot.figure()\n",
    "    title = 'True Label: '+str(np.where(labels[idx] == 1.)[0][0])\n",
    "    fig.suptitle(title, fontsize=14, fontweight='bold')\n",
    "    ax = fig.add_subplot(1,1,1)\n",
    "    imgplot = ax.imshow(image, cmap=mpl.cm.Greys)\n",
    "    imgplot.set_interpolation('nearest')\n",
    "    ax.xaxis.set_ticks_position('bottom')\n",
    "    ax.yaxis.set_ticks_position('left')\n",
    "    pyplot.show()\n",
    "    \n",
    "trX, trY, teX, teY = load_data()\n",
    "show_digit(trX,trY,42)"
   ]
  },
  {
   "cell_type": "markdown",
   "metadata": {},
   "source": [
    "### 1 Layer Neural Network"
   ]
  },
  {
   "cell_type": "code",
   "execution_count": 5,
   "metadata": {},
   "outputs": [],
   "source": [
    "class Neural_Network:\n",
    "\n",
    "    def __init__(self, neurons=64, features=50, classes=10, epochs=50, learning_rate=0.1, batches=20, random_seed=None, train_img=None, train_lbl=None, test_img=None, test_lbl=None):\n",
    "        if random_seed:\n",
    "            self.random_seed = np.random.seed(random_seed)\n",
    "        self.weights = [np.random.randn(*w) * 0.1 for w in [(features, neurons), (neurons, classes)]]\n",
    "        self.epochs = epochs\n",
    "        self.learning_rate = learning_rate\n",
    "        self.batches = batches\n",
    "        self.trX = train_img\n",
    "        self.trY = train_lbl\n",
    "        self.teX = test_img\n",
    "        self.teY = test_lbl\n",
    "    \n",
    "    def _feed_forward(self, X, weights):\n",
    "        a = [X]\n",
    "        for w in weights:\n",
    "            a.append(np.maximum(a[-1].dot(w),0))\n",
    "        return a\n",
    "\n",
    "    def _grads(self, X, Y, weights):\n",
    "        grads = np.empty_like(weights)\n",
    "        a = self._feed_forward(X, weights)\n",
    "        delta = a[-1] - Y\n",
    "        grads[-1] = a[-2].T.dot(delta)\n",
    "        for i in range(len(a)-2, 0, -1):\n",
    "            delta = (a[i] > 0) * delta.dot(weights[i].T)\n",
    "            grads[i-1] = a[i-1].T.dot(delta)\n",
    "        return grads / len(X)\n",
    "\n",
    "    def train(self):\n",
    "        \n",
    "        self.start_time = dt.datetime.now()\n",
    "        print('-- Training Session Start (%s) --' % (self.start_time))\n",
    "        print('\\nEpochs: %d\\nLearning Rate: %.3f\\nBatches Size: %d\\n' % (self.epochs,self.learning_rate,self.batches))\n",
    "        \n",
    "        for i in range(self.epochs):\n",
    "\n",
    "            for j in range(0, len(self.trX), self.batches):\n",
    "                X, Y = self.trX[j:j+self.batches], self.trY[j:j+self.batches]\n",
    "                self.weights -= self.learning_rate * self._grads(X, Y, self.weights)\n",
    "            prediction = np.argmax(self._feed_forward(self.teX, self.weights)[-1], axis=1)\n",
    "\n",
    "            if i == 0 or (i+1) % 10 == 0:\n",
    "                diff = dt.datetime.now() - self.start_time\n",
    "                eta = divmod(diff.days * 86400 + diff.seconds, 60)\n",
    "                accuracy = np.mean(prediction == np.argmax(teY, axis=1))\n",
    "                epoch4print = str(i+1).zfill(len(str(self.epochs)))\n",
    "                print('Epoch %s: accuracy %f in %dm%ds' % ((epoch4print),accuracy,eta[0],eta[1]))\n",
    "                \n",
    "        print('\\nResult: %f in %dm%ds\\n' % (accuracy,eta[0],eta[1]))\n",
    "        print('-- Training Session End (%s) --' % (dt.datetime.now()))\n",
    "        \n",
    "    def getWeights(self):\n",
    "        return self.weights"
   ]
  },
  {
   "cell_type": "code",
   "execution_count": 6,
   "metadata": {},
   "outputs": [
    {
     "name": "stdout",
     "output_type": "stream",
     "text": [
      "-- Training Session Start (2018-05-16 19:45:48.464853) --\n",
      "\n",
      "Epochs: 100\n",
      "Learning Rate: 0.001\n",
      "Batches Size: 25\n",
      "\n",
      "Epoch 001: accuracy 0.630200 in 0m1s\n",
      "Epoch 010: accuracy 0.879500 in 0m13s\n",
      "Epoch 020: accuracy 0.908400 in 0m26s\n",
      "Epoch 030: accuracy 0.920100 in 0m39s\n",
      "Epoch 040: accuracy 0.928100 in 0m52s\n",
      "Epoch 050: accuracy 0.933500 in 1m5s\n",
      "Epoch 060: accuracy 0.937100 in 1m18s\n",
      "Epoch 070: accuracy 0.941200 in 1m31s\n",
      "Epoch 080: accuracy 0.944000 in 1m45s\n",
      "Epoch 090: accuracy 0.946100 in 1m58s\n",
      "Epoch 100: accuracy 0.947600 in 2m11s\n",
      "\n",
      "Result: 0.947600 in 2m11s\n",
      "\n",
      "-- Training Session End (2018-05-16 19:47:59.714412) --\n"
     ]
    }
   ],
   "source": [
    "nn = Neural_Network(neurons=100,\n",
    "                    epochs=100,\n",
    "                    learning_rate=0.001,\n",
    "                    batches=25,\n",
    "                    features=N_FEATURES,\n",
    "                    classes=N_CLASSES,\n",
    "                    random_seed=RANDOM_SEED,\n",
    "                    train_img = trX,\n",
    "                    train_lbl = trY,\n",
    "                    test_img = teX,\n",
    "                    test_lbl = teY)\n",
    "\n",
    "nn.train()"
   ]
  },
  {
   "cell_type": "markdown",
   "metadata": {},
   "source": [
    "### Centroid Functions"
   ]
  },
  {
   "cell_type": "code",
   "execution_count": 7,
   "metadata": {},
   "outputs": [],
   "source": [
    "def nearest_centroid_index(centers,value):\n",
    "    centers = np.asarray(centers)\n",
    "    idx = (np.abs(centers - value)).argmin()\n",
    "    return idx\n",
    "\n",
    "def nearest_centroid(centers,value):\n",
    "    centers = np.asarray(centers)\n",
    "    idx = (np.abs(centers - value)).argmin()\n",
    "    return centers[idx]"
   ]
  },
  {
   "cell_type": "markdown",
   "metadata": {},
   "source": [
    "### 1 Layer Neural Network with K_MEANS"
   ]
  },
  {
   "cell_type": "code",
   "execution_count": 8,
   "metadata": {},
   "outputs": [],
   "source": [
    "class Neural_Network_KMeans:\n",
    "\n",
    "    def __init__(self, neurons=64, features=50, classes=10, epochs=50, learning_rate=0.1, batches=20, k_means=None, random_seed=None, train_img=None, train_lbl=None, test_img=None, test_lbl=None):\n",
    "        if random_seed:\n",
    "            self.random_seed = np.random.seed(random_seed)\n",
    "        self.k_means = k_means\n",
    "        self.weights = [np.random.randn(*w) * 0.1 for w in [(features, neurons), (neurons, classes)]]\n",
    "        self.epochs = epochs\n",
    "        self.learning_rate = learning_rate\n",
    "        self.batches = batches\n",
    "        self.trX = train_img\n",
    "        self.trY = train_lbl\n",
    "        self.teX = test_img\n",
    "        self.teY = test_lbl\n",
    "    \n",
    "    def _feed_forward(self, X, weights):\n",
    "        a = [X]\n",
    "        for w in weights:\n",
    "            a.append(np.maximum(a[-1].dot(w),0))\n",
    "        return a\n",
    "\n",
    "    def _grads(self, X, Y, weights):\n",
    "        grads = np.empty_like(weights)\n",
    "        a = self._feed_forward(X, weights)\n",
    "        delta = a[-1] - Y\n",
    "        grads[-1] = a[-2].T.dot(delta)\n",
    "        for i in range(len(a)-2, 0, -1):\n",
    "            delta = (a[i] > 0) * delta.dot(weights[i].T)\n",
    "            grads[i-1] = a[i-1].T.dot(delta)\n",
    "        return grads / len(X)\n",
    "    \n",
    "    def _redefine_weights(self,centers,weights):\n",
    "        for w in weights:\n",
    "            for i, row in enumerate(w):\n",
    "                for j, col in enumerate(row):\n",
    "                    w[i,j] = nearest_centroid(centers,w[i,j])\n",
    "        return weights\n",
    "\n",
    "    def train(self):\n",
    "        \n",
    "        self.weights = self._redefine_weights(self.k_means.cluster_centers_,self.weights)\n",
    "        \n",
    "        self.start_time = dt.datetime.now()\n",
    "        print('-- Training Session Start (%s) --' % (self.start_time))\n",
    "        print('\\nEpochs: %d\\nLearning Rate: %.3f\\nBatches Size: %d\\nClusters: %d\\n' % (self.epochs,self.learning_rate,self.batches,len(self.k_means.cluster_centers_)))\n",
    "        \n",
    "        for i in range(self.epochs):\n",
    "\n",
    "            for j in range(0, len(self.trX), self.batches):\n",
    "                X, Y = self.trX[j:j+self.batches], self.trY[j:j+self.batches]\n",
    "                self.weights -= self.learning_rate * self._grads(X, Y, self.weights)\n",
    "            self.weights = self._redefine_weights(self.k_means.cluster_centers_,self.weights)\n",
    "            prediction = np.argmax(self._feed_forward(self.teX, self.weights)[-1], axis=1)\n",
    "\n",
    "            if i == 0 or (i+1) % 10 == 0:\n",
    "                diff = dt.datetime.now() - self.start_time\n",
    "                eta = divmod(diff.days * 86400 + diff.seconds, 60)\n",
    "                accuracy = np.mean(prediction == np.argmax(teY, axis=1))\n",
    "                epoch4print = str(i+1).zfill(len(str(self.epochs)))\n",
    "                print('Epoch %s: accuracy %f in %dm%ds' % ((epoch4print),accuracy,eta[0],eta[1]))\n",
    "                \n",
    "        print('\\nResult: %f in %dm%ds\\n' % (accuracy,eta[0],eta[1]))\n",
    "        print('-- Training Session End (%s) --' % (dt.datetime.now()))\n",
    "        \n",
    "    def getWeights(self):\n",
    "        return self.weights"
   ]
  },
  {
   "cell_type": "markdown",
   "metadata": {},
   "source": [
    "### Settings for K-MEANS"
   ]
  },
  {
   "cell_type": "code",
   "execution_count": 9,
   "metadata": {},
   "outputs": [
    {
     "data": {
      "text/plain": [
       "KMeans(algorithm='auto', copy_x=True, init='k-means++', max_iter=300,\n",
       "    n_clusters=40, n_init=10, n_jobs=1, precompute_distances='auto',\n",
       "    random_state=42, tol=0.0001, verbose=0)"
      ]
     },
     "execution_count": 9,
     "metadata": {},
     "output_type": "execute_result"
    }
   ],
   "source": [
    "N_CLUSTER = 40\n",
    "\n",
    "kmeans = KMeans(n_clusters=N_CLUSTER,random_state=RANDOM_SEED)\n",
    "nn_weights = nn.getWeights()\n",
    "weights_1D_array = np.append(np.hstack(nn_weights[0]),np.hstack(nn_weights[1]))\n",
    "kmeans.fit(weights_1D_array.reshape(-1,1))"
   ]
  },
  {
   "cell_type": "code",
   "execution_count": 10,
   "metadata": {},
   "outputs": [
    {
     "name": "stdout",
     "output_type": "stream",
     "text": [
      "-- Training Session Start (2018-05-16 19:48:10.327786) --\n",
      "\n",
      "Epochs: 50\n",
      "Learning Rate: 0.010\n",
      "Batches Size: 15\n",
      "Clusters: 40\n",
      "\n",
      "Epoch 01: accuracy 0.897200 in 0m2s\n",
      "Epoch 10: accuracy 0.941400 in 0m22s\n",
      "Epoch 20: accuracy 0.944500 in 0m43s\n",
      "Epoch 30: accuracy 0.944300 in 1m5s\n",
      "Epoch 40: accuracy 0.944600 in 1m27s\n",
      "Epoch 50: accuracy 0.944600 in 1m49s\n",
      "\n",
      "Result: 0.944600 in 1m49s\n",
      "\n",
      "-- Training Session End (2018-05-16 19:50:00.083291) --\n"
     ]
    }
   ],
   "source": [
    "nn_km = Neural_Network_KMeans(neurons=100,\n",
    "                              epochs=50,\n",
    "                              learning_rate=0.01,\n",
    "                              batches=15,\n",
    "                              features=N_FEATURES,\n",
    "                              classes=N_CLASSES,\n",
    "                              k_means = kmeans,\n",
    "                              random_seed=RANDOM_SEED,\n",
    "                              train_img = trX,\n",
    "                              train_lbl = trY,\n",
    "                              test_img = teX,\n",
    "                              test_lbl = teY)\n",
    "\n",
    "nn_km.train()"
   ]
  },
  {
   "cell_type": "markdown",
   "metadata": {},
   "source": [
    "### TEST FOR REPLACE WEIGHTS WITH INDEX IN CENTERS"
   ]
  },
  {
   "cell_type": "code",
   "execution_count": 12,
   "metadata": {},
   "outputs": [
    {
     "name": "stdout",
     "output_type": "stream",
     "text": [
      "do_work function took 291.30 ms\n",
      "do_little function took 284.05 ms\n"
     ]
    }
   ],
   "source": [
    "def redefine_weights(centers,weights):\n",
    "        arr_ret = np.empty_like(weights)\n",
    "        for k,w in enumerate(weights):\n",
    "            arr_int = np.empty_like(w)\n",
    "            for i, row in enumerate(w):\n",
    "                for j, col in enumerate(row):\n",
    "                    arr_int[i,j] = nearest_centroid_index(centers,w[i,j])\n",
    "            arr_ret[k] = arr_int\n",
    "        return arr_ret\n",
    "\n",
    "@timing    \n",
    "def do_work():\n",
    "    a = [trX[1:15]]\n",
    "    for w in redefine_weights(kmeans.cluster_centers_,nn_weights):\n",
    "        w_list = [[kmeans.cluster_centers_[int(y)][0] for y in x] for x in w]\n",
    "        a.append(np.maximum(a[-1].dot(w_list),0))\n",
    "    return a\n",
    "\n",
    "@timing\n",
    "def do_little():\n",
    "    for w in redefine_weights(kmeans.cluster_centers_,nn_weights):\n",
    "        w_list = [[kmeans.cluster_centers_[int(y)][0] for y in x] for x in w]\n",
    "\n",
    "do_work()\n",
    "do_little()\n",
    "# FUNZIONAAAAAAAAA"
   ]
  },
  {
   "cell_type": "code",
   "execution_count": null,
   "metadata": {},
   "outputs": [],
   "source": []
  }
 ],
 "metadata": {
  "kernelspec": {
   "display_name": "Python 3",
   "language": "python",
   "name": "python3"
  },
  "language_info": {
   "codemirror_mode": {
    "name": "ipython",
    "version": 3
   },
   "file_extension": ".py",
   "mimetype": "text/x-python",
   "name": "python",
   "nbconvert_exporter": "python",
   "pygments_lexer": "ipython3",
   "version": "3.6.4"
  }
 },
 "nbformat": 4,
 "nbformat_minor": 2
}
