{
 "cells": [
  {
   "cell_type": "code",
   "execution_count": 28,
   "metadata": {},
   "outputs": [],
   "source": [
    "import numpy as np\n",
    "from sklearn.cluster import MiniBatchKMeans\n",
    "from numpy.random import rand,randint\n",
    "import scipy.ndimage\n",
    "from scipy.sparse import csc_matrix, csr_matrix\n",
    "import json\n",
    "import matplotlib.pyplot as plt\n",
    "import queue\n",
    "import functools\n",
    "import pandas"
   ]
  },
  {
   "cell_type": "code",
   "execution_count": 327,
   "metadata": {},
   "outputs": [],
   "source": [
    "RANDOM_SEED = 42\n",
    "cluster_number = 256\n",
    "weights = rand(300,784)"
   ]
  },
  {
   "cell_type": "markdown",
   "metadata": {},
   "source": [
    "### Clustering"
   ]
  },
  {
   "cell_type": "code",
   "execution_count": 3,
   "metadata": {},
   "outputs": [],
   "source": [
    "def reshape_weights_for_kmeans(weights):\n",
    "    return np.hstack(weights).reshape(-1,1)\n",
    "\n",
    "def build_clusters(cluster,weights):\n",
    "    kmeans = MiniBatchKMeans(n_clusters=cluster,random_state=RANDOM_SEED)\n",
    "    kmeans.fit(reshape_weights_for_kmeans(weights))\n",
    "    return kmeans.cluster_centers_"
   ]
  },
  {
   "cell_type": "code",
   "execution_count": 4,
   "metadata": {},
   "outputs": [],
   "source": [
    "def nearest_centroid_index(centers,value):\n",
    "    centers = np.asarray(centers)\n",
    "    return (np.abs(centers - value)).argmin()\n",
    "\n",
    "def nearest_centroid(centers,value):\n",
    "    centers = np.asarray(centers)\n",
    "    idx = (np.abs(centers - value)).argmin()\n",
    "    return centers[idx]"
   ]
  },
  {
   "cell_type": "markdown",
   "metadata": {},
   "source": [
    "### Matrix"
   ]
  },
  {
   "cell_type": "code",
   "execution_count": 5,
   "metadata": {},
   "outputs": [],
   "source": [
    "def redefine_weights(weights,centers):\n",
    "    arr_ret = np.empty_like(weights).astype(np.int16)\n",
    "    for i, row in enumerate(weights):\n",
    "        for j, col in enumerate(row):\n",
    "            arr_ret[i,j] = nearest_centroid_index(centers,weights[i,j])\n",
    "    return arr_ret"
   ]
  },
  {
   "cell_type": "code",
   "execution_count": 6,
   "metadata": {},
   "outputs": [],
   "source": [
    "def idx_matrix_to_matrix(idx_matrix,centers,shape):\n",
    "    return centers[idx_matrix.reshape(-1,1)].reshape(shape)"
   ]
  },
  {
   "cell_type": "code",
   "execution_count": 7,
   "metadata": {},
   "outputs": [],
   "source": [
    "def centroid_gradient_matrix(idx_matrix,gradient,cluster):\n",
    "    return scipy.ndimage.sum(gradient,idx_matrix,index=range(cluster))"
   ]
  },
  {
   "cell_type": "markdown",
   "metadata": {},
   "source": [
    "### Dictionary"
   ]
  },
  {
   "cell_type": "code",
   "execution_count": 8,
   "metadata": {},
   "outputs": [],
   "source": [
    "# map (i,j) -> k\n",
    "def dict_index_to_cluster(weights,centers):\n",
    "        dict_ret = {}\n",
    "        for i, row in enumerate(weights):\n",
    "            for j, col in enumerate(row):\n",
    "                dict_ret[(i,j)] = nearest_centroid_index(centers,weights[i,j])\n",
    "        return dict_ret\n",
    "\n",
    "# map k -> (i,j)\n",
    "def dict_cluster_to_index(dict_idx):\n",
    "    dict_ret = {}\n",
    "    for k,v in dict_idx.items():\n",
    "        if v in dict_ret:\n",
    "            dict_ret[v] += [k]\n",
    "        else:\n",
    "            dict_ret[v] = [k]\n",
    "    return dict_ret"
   ]
  },
  {
   "cell_type": "code",
   "execution_count": 9,
   "metadata": {},
   "outputs": [],
   "source": [
    "def index_dict_to_matrix(dict_index,dict_values,shape):\n",
    "    coord_array = np.asarray(list(dict_index.values()))\n",
    "    return dict_values[coord_array].reshape(shape)"
   ]
  },
  {
   "cell_type": "code",
   "execution_count": 10,
   "metadata": {},
   "outputs": [],
   "source": [
    "def centroid_gradient_dict(K_Index,W_Matrix):\n",
    "    tmpindex = dict((key, ([x for x, _ in value], [y for _, y in value])) for key, value in K_Index.items())\n",
    "    return [W_Matrix[value[0],value[1]].sum() for value in tmpindex.values()]"
   ]
  },
  {
   "cell_type": "markdown",
   "metadata": {},
   "source": [
    "### Variables"
   ]
  },
  {
   "cell_type": "code",
   "execution_count": 11,
   "metadata": {},
   "outputs": [],
   "source": [
    "centers = build_clusters(cluster_number,weights)\n",
    "dict_index = dict_index_to_cluster(weights,centers)\n",
    "dict_cluster = dict_cluster_to_index(dict_index)\n",
    "matrix_index = redefine_weights(weights,centers)"
   ]
  },
  {
   "cell_type": "markdown",
   "metadata": {},
   "source": [
    "### Testing"
   ]
  },
  {
   "cell_type": "code",
   "execution_count": 12,
   "metadata": {},
   "outputs": [
    {
     "name": "stdout",
     "output_type": "stream",
     "text": [
      "706 µs ± 16.9 µs per loop (mean ± std. dev. of 7 runs, 1000 loops each)\n",
      "18.5 ms ± 355 µs per loop (mean ± std. dev. of 7 runs, 100 loops each)\n"
     ]
    }
   ],
   "source": [
    "%timeit idx_matrix_to_matrix(matrix_index,centers,(300,784))\n",
    "%timeit index_dict_to_matrix(dict_index,centers,(300,784))"
   ]
  },
  {
   "cell_type": "code",
   "execution_count": 13,
   "metadata": {},
   "outputs": [
    {
     "name": "stdout",
     "output_type": "stream",
     "text": [
      "1.61 ms ± 79.4 µs per loop (mean ± std. dev. of 7 runs, 1000 loops each)\n",
      "76.2 ms ± 223 µs per loop (mean ± std. dev. of 7 runs, 10 loops each)\n"
     ]
    }
   ],
   "source": [
    "%timeit centroid_gradient_matrix(matrix_index,weights,cluster_number)\n",
    "%timeit centroid_gradient_dict(dict_cluster,weights)"
   ]
  },
  {
   "cell_type": "markdown",
   "metadata": {},
   "source": [
    "### Transform"
   ]
  },
  {
   "cell_type": "code",
   "execution_count": 14,
   "metadata": {},
   "outputs": [],
   "source": [
    "def dict_to_index_matrix_slow(dict_cluster):\n",
    "    arr_ret = np.zeros((300,785))\n",
    "    for k,v in dict_cluster.items():\n",
    "        for i in v:\n",
    "            arr_ret[i] = k\n",
    "    return arr_ret\n",
    "\n",
    "def dict_to_index_matrix(dict_index,shape):\n",
    "    return np.asarray(list(dict_index.values())).reshape(shape).astype(np.int16)"
   ]
  },
  {
   "cell_type": "code",
   "execution_count": 15,
   "metadata": {},
   "outputs": [
    {
     "name": "stdout",
     "output_type": "stream",
     "text": [
      "50.3 ms ± 159 µs per loop (mean ± std. dev. of 7 runs, 10 loops each)\n",
      "17.1 ms ± 488 µs per loop (mean ± std. dev. of 7 runs, 100 loops each)\n"
     ]
    }
   ],
   "source": [
    "%timeit dict_to_index_matrix_slow(dict_cluster)\n",
    "%timeit dict_to_index_matrix(dict_index,(300,784))"
   ]
  },
  {
   "cell_type": "markdown",
   "metadata": {},
   "source": [
    "# HELPER FUNCTION"
   ]
  },
  {
   "cell_type": "markdown",
   "metadata": {},
   "source": [
    "#### Cluster mean"
   ]
  },
  {
   "cell_type": "code",
   "execution_count": 16,
   "metadata": {},
   "outputs": [],
   "source": [
    "def mean_distance(weights,centroids):\n",
    "    tot = 0.\n",
    "    for i, row in enumerate(weights):\n",
    "        for j, col in enumerate(row):\n",
    "            weight = weights[i,j]\n",
    "            centroid = nearest_centroid(centroids,weight)[0]\n",
    "            tot += np.sqrt((weight - centroid)**2)\n",
    "    return tot / ((i+1)*(j+1))"
   ]
  },
  {
   "cell_type": "code",
   "execution_count": 17,
   "metadata": {},
   "outputs": [
    {
     "name": "stdout",
     "output_type": "stream",
     "text": [
      "Mean for 001 clusters 0.249903 \n",
      "Mean for 011 clusters 0.023029 \n",
      "Mean for 021 clusters 0.011968 \n",
      "Mean for 031 clusters 0.008139 \n",
      "Mean for 041 clusters 0.006185 \n",
      "Mean for 051 clusters 0.004948 \n",
      "Mean for 061 clusters 0.004147 \n",
      "Mean for 071 clusters 0.003554 \n",
      "Mean for 081 clusters 0.003155 \n",
      "Mean for 091 clusters 0.002889 \n",
      "Mean for 101 clusters 0.002623 \n"
     ]
    }
   ],
   "source": [
    "def find_clusters_number(values,n_from,n_to,n_jump):\n",
    "    result = {}\n",
    "    for i in range(n_from,n_to+1,n_jump):\n",
    "        kmeans = MiniBatchKMeans(n_clusters=i,random_state=RANDOM_SEED)\n",
    "        kmeans.fit(reshape_weights_for_kmeans(values))\n",
    "        mean = mean_distance(values,kmeans.cluster_centers_)\n",
    "        result[i] = mean\n",
    "        print(\"Mean for %s clusters %f \" % (str(i).zfill(3),mean))\n",
    "    return result\n",
    "        \n",
    "means_cluster_1_10 = find_clusters_number(weights,1,101,10)"
   ]
  },
  {
   "cell_type": "markdown",
   "metadata": {},
   "source": [
    "## Huffman Coding"
   ]
  },
  {
   "cell_type": "code",
   "execution_count": 18,
   "metadata": {},
   "outputs": [
    {
     "data": {
      "image/png": "[encoded data removed]",
      "text/plain": [
       "<matplotlib.figure.Figure at 0x1a0a9c3240>"
      ]
     },
     "metadata": {},
     "output_type": "display_data"
    }
   ],
   "source": [
    "cluster_sparsity = [(len(dict_cluster[x]),x) for x in dict_cluster]\n",
    "cluster_sparsity = sorted(cluster_sparsity, key=lambda x: x[0] )\n",
    "plt.bar([x[1] for x in cluster_sparsity], [x[0] for x in cluster_sparsity], width=1)\n",
    "plt.show()"
   ]
  },
  {
   "cell_type": "code",
   "execution_count": 19,
   "metadata": {},
   "outputs": [
    {
     "data": {
      "image/png": "[encoded data removed]",
      "text/plain": [
       "<matplotlib.figure.Figure at 0x1a0a9c33c8>"
      ]
     },
     "metadata": {},
     "output_type": "display_data"
    }
   ],
   "source": [
    "plt.bar(range(len(cluster_sparsity)), [x[0] for x in sorted(cluster_sparsity, key=lambda x: x[0], reverse=True)], width=1)\n",
    "plt.show()"
   ]
  },
  {
   "cell_type": "code",
   "execution_count": 20,
   "metadata": {},
   "outputs": [],
   "source": [
    "@functools.total_ordering\n",
    "class HuffmanNode(object):\n",
    "    def __init__(self, left=None, right=None):\n",
    "        self.left = left\n",
    "        self.right = right\n",
    "    def children(self):\n",
    "        return((self.left, self.right))\n",
    "    def __lt__(self, other):\n",
    "        return True\n",
    "\n",
    "def create_tree(frequencies):\n",
    "    p = queue.PriorityQueue()\n",
    "    for value in frequencies:\n",
    "        p.put(value)\n",
    "    while p.qsize() > 1:\n",
    "        l, r = p.get(), p.get()\n",
    "        node = HuffmanNode(l, r)\n",
    "        p.put((l[0]+r[0], node))    \n",
    "    return p.get()\n",
    "\n",
    "# Dictionary (n : \"01010\")\n",
    "def coding_tree(node, prefix=\"\", code={}):\n",
    "    if isinstance(node[1].left[1], HuffmanNode):\n",
    "        coding_tree(node[1].left,prefix+\"0\", code)\n",
    "    else:\n",
    "        code[node[1].left[1]]=prefix+\"0\"\n",
    "    if isinstance(node[1].right[1],HuffmanNode):\n",
    "        coding_tree(node[1].right,prefix+\"1\", code)\n",
    "    else:\n",
    "        code[node[1].right[1]]=prefix+\"1\"\n",
    "    return(code)\n",
    "\n",
    "def decode(rev_huff,code):\n",
    "    for k, v in rev_huff.items():\n",
    "        if v == code:\n",
    "            return k\n",
    "        \n",
    "def encode(rev_huff,code):\n",
    "    return rev_huff[code]\n",
    "\n",
    "# Dictionary (\"01010\" : n)\n",
    "def reverse_code(huff):\n",
    "    huff_code_rev = {}    \n",
    "    for k,v in huff.items():\n",
    "        huff_code_rev[v] = k\n",
    "    return huff_code_rev\n",
    "\n",
    "def rev_encode(rev_huff,code):\n",
    "    return decode(rev_huff,code)\n",
    "        \n",
    "def rev_decode(rev_huff,code):\n",
    "    return encode(rev_huff,code)"
   ]
  },
  {
   "cell_type": "code",
   "execution_count": 21,
   "metadata": {},
   "outputs": [
    {
     "data": {
      "text/plain": [
       "[(107, '0000000'),\n",
       " (8, '00000010'),\n",
       " (104, '00000011'),\n",
       " (102, '0000010'),\n",
       " (55, '0000011'),\n",
       " (73, '0000100'),\n",
       " (188, '00001010'),\n",
       " (193, '00001011'),\n",
       " (165, '0000110'),\n",
       " (236, '00001110')]"
      ]
     },
     "execution_count": 21,
     "metadata": {},
     "output_type": "execute_result"
    }
   ],
   "source": [
    "cluster_sparsity = [(len(v),k) for k,v in dict_cluster.items()]\n",
    "ht_cluster = create_tree(cluster_sparsity)\n",
    "hc_cluster = coding_tree(ht_cluster,code={})\n",
    "hc_rev = reverse_code(hc_cluster)\n",
    "\n",
    "list(hc_cluster.items())[0:10]"
   ]
  },
  {
   "cell_type": "code",
   "execution_count": 22,
   "metadata": {},
   "outputs": [],
   "source": [
    "def nearest_centroid_index_huffman(centers,value):\n",
    "    centers = np.asarray(centers)\n",
    "    idx = (np.abs(centers - value)).argmin()\n",
    "    return encode(hc_cluster,idx)\n",
    "\n",
    "def redefine_weights_huffman(weights,centers):\n",
    "    arr_ret = np.empty_like(weights).astype(str)\n",
    "    for i, row in enumerate(weights):\n",
    "        for j, col in enumerate(row):\n",
    "            arr_ret[i,j] = nearest_centroid_index_huffman(centers,weights[i,j])\n",
    "    return arr_ret\n",
    "\n",
    "def dict_index_to_cluster_huffman(weights,centers):\n",
    "        dict_ret = {}\n",
    "        for i, row in enumerate(weights):\n",
    "            for j, col in enumerate(row):\n",
    "                dict_ret[(i,j)] = nearest_centroid_index_huffman(centers,weights[i,j])\n",
    "        return dict_ret\n",
    "    \n",
    "def index_dict_to_matrix_huffman(dict_index,dict_values,huff_code,shape):\n",
    "    coord_array = np.asarray([rev_decode(huff_code,x) for x in huff_dict_index.values()])\n",
    "    return dict_values[coord_array].reshape(shape)\n",
    "\n",
    "def centroid_gradient_matrix_huffman(idx_huff_matrix,gradient,cluster):\n",
    "    return scipy.ndimage.sum(gradient,idx_huff_matrix,[x for x in cluster.values()])\n",
    "\n",
    "huff_index_matrix = redefine_weights_huffman(weights,centers)\n",
    "huff_dict_index = dict_index_to_cluster_huffman(weights,centers)"
   ]
  },
  {
   "cell_type": "code",
   "execution_count": 23,
   "metadata": {},
   "outputs": [
    {
     "name": "stdout",
     "output_type": "stream",
     "text": [
      "16.8 ms ± 25.6 µs per loop (mean ± std. dev. of 7 runs, 100 loops each)\n",
      "54.9 ms ± 208 µs per loop (mean ± std. dev. of 7 runs, 10 loops each)\n"
     ]
    }
   ],
   "source": [
    "%timeit index_dict_to_matrix(dict_index,centers,(300,784))\n",
    "%timeit index_dict_to_matrix_huffman(huff_dict_index,centers,hc_rev,(300,784))"
   ]
  },
  {
   "cell_type": "code",
   "execution_count": 24,
   "metadata": {},
   "outputs": [
    {
     "name": "stdout",
     "output_type": "stream",
     "text": [
      "1.23 ms ± 3.61 µs per loop (mean ± std. dev. of 7 runs, 1000 loops each)\n",
      "119 ms ± 8.24 ms per loop (mean ± std. dev. of 7 runs, 10 loops each)\n"
     ]
    }
   ],
   "source": [
    "%timeit centroid_gradient_matrix(matrix_index,weights,cluster_number)\n",
    "%timeit centroid_gradient_matrix_huffman(huff_index_matrix,weights,hc_cluster)"
   ]
  },
  {
   "cell_type": "code",
   "execution_count": 25,
   "metadata": {},
   "outputs": [],
   "source": [
    "# Per Huffman non è possibile fare nulla (implementazione)\n",
    "# Alla fine di tutto calcolare un'ipotetica compressione (funzione che restituisce il tasso)\n",
    "# sommatoria: grandezza di ogni cluster (# elementi) * lunghezza stringa in char (8b a char)\n",
    "# in confronto con # elementi * 8b"
   ]
  },
  {
   "cell_type": "markdown",
   "metadata": {},
   "source": [
    "## PRUNING (with kmeans support)"
   ]
  },
  {
   "cell_type": "code",
   "execution_count": 324,
   "metadata": {},
   "outputs": [],
   "source": [
    "def pruning_matrix(mat,percentage,method='out'):\n",
    "    threshold = (100-percentage)\n",
    "    \n",
    "    if method == 'inout':\n",
    "        threshold /= 4\n",
    "        perc_up,perc_down,perc_mid_up,perc_mid_down = 100 - threshold, threshold, 50 + threshold, 50 - threshold\n",
    "        percentile_up = np.percentile(mat,perc_up)\n",
    "        percentile_down = np.percentile(mat,perc_down)\n",
    "        percentile_mid_up = np.percentile(mat,perc_mid_up)\n",
    "        percentile_mid_down = np.percentile(mat,perc_mid_down)\n",
    "    else:\n",
    "        threshold /= 2\n",
    "        if method == 'in': perc_up, perc_down = 50 + threshold, 50 - threshold\n",
    "        elif method == 'out': perc_up, perc_down = 100 - threshold, threshold\n",
    "        percentile_up = np.percentile(mat,perc_up)\n",
    "        percentile_down = np.percentile(mat,perc_down)\n",
    "        \n",
    "    w_pruned = np.copy(mat)\n",
    "    for i,row in enumerate(mat):\n",
    "        for j,_ in enumerate(row):\n",
    "            if method == 'in':\n",
    "                if mat[i,j] > percentile_down and mat[i,j] < percentile_up:\n",
    "                    w_pruned[i,j] = 0\n",
    "            elif method == 'out':\n",
    "                if mat[i,j] < percentile_down or mat[i,j] > percentile_up:\n",
    "                    w_pruned[i,j] = 0\n",
    "            elif method == 'inout':\n",
    "                if mat[i,j] < percentile_down or mat[i,j] > percentile_up or (mat[i,j] > percentile_mid_down and mat[i,j] < percentile_mid_up):\n",
    "                    w_pruned[i,j] = 0\n",
    "    return w_pruned"
   ]
  },
  {
   "cell_type": "code",
   "execution_count": 330,
   "metadata": {},
   "outputs": [],
   "source": [
    "w_csc = csc_matrix(pruning_matrix(weights,70,method='in'))"
   ]
  },
  {
   "cell_type": "code",
   "execution_count": 331,
   "metadata": {},
   "outputs": [],
   "source": [
    "def P_nearest_centroid_index(centers,value):\n",
    "    centers = np.asarray(centers)\n",
    "    return (np.abs(centers - value)).argmin()"
   ]
  },
  {
   "cell_type": "code",
   "execution_count": 332,
   "metadata": {},
   "outputs": [],
   "source": [
    "def P_build_clusters(cluster,weights):\n",
    "    kmeans = MiniBatchKMeans(n_clusters=cluster,random_state=RANDOM_SEED)\n",
    "    kmeans.fit(weights.data.reshape(-1,1))\n",
    "    return kmeans.cluster_centers_\n",
    "\n",
    "P_centers = P_build_clusters(256,w_csc)"
   ]
  },
  {
   "cell_type": "code",
   "execution_count": 333,
   "metadata": {},
   "outputs": [],
   "source": [
    "def P_redefine_weights(weights,centers):\n",
    "    new_data_idx = [nearest_centroid_index(centers,w) for w in weights.data]\n",
    "    return csc_matrix((new_data_idx,weights.indices,weights.indptr))\n",
    "\n",
    "idx_csc = P_redefine_weights(w_csc,P_centers)"
   ]
  },
  {
   "cell_type": "code",
   "execution_count": 334,
   "metadata": {},
   "outputs": [
    {
     "name": "stdout",
     "output_type": "stream",
     "text": [
      "484 µs ± 444 ns per loop (mean ± std. dev. of 7 runs, 1000 loops each)\n"
     ]
    }
   ],
   "source": [
    "def P_idx_matrix_to_matrix(idx_matrix,centers):\n",
    "    return csc_matrix((centers[idx_matrix.data].reshape(-1,),idx_matrix.indices,idx_matrix.indptr))\n",
    "\n",
    "%timeit P_idx_matrix_to_matrix(idx_csc,P_centers)"
   ]
  },
  {
   "cell_type": "code",
   "execution_count": 349,
   "metadata": {},
   "outputs": [
    {
     "data": {
      "text/plain": [
       "array([-361.60647057, -250.8533982 , -380.05750312, -267.13811395,\n",
       "       -357.6008214 , -294.97999345, -275.33679171, -470.2282777 ,\n",
       "       -276.93914027,  -89.02331442, -466.66607795, -181.23908097,\n",
       "       -499.50111643, -466.813615  , -273.26839307, -497.89209079,\n",
       "       -149.35473404, -492.64760517, -314.05500243, -209.78921101,\n",
       "       -303.55856785, -268.74296712, -219.46881714, -384.0414072 ,\n",
       "       -319.47289521, -384.6918591 , -576.00404057, -293.32281695,\n",
       "       -264.2356986 , -371.525988  , -284.12285115, -385.99846493,\n",
       "       -383.00794206, -298.83686892, -429.4595744 , -125.82173782,\n",
       "       -672.8492079 , -155.68352838, -354.51992333, -297.80936116,\n",
       "       -430.59782556, -157.4134859 ,  -85.44524768, -302.65746651,\n",
       "       -416.09297831, -107.42098971, -318.00080268, -280.71653785,\n",
       "         48.        , -375.37810927, -462.5541124 , -322.30304512,\n",
       "       -384.51332713, -545.00242551, -236.86421364, -232.68249572,\n",
       "       -199.85525558, -387.71499997, -413.83129171, -198.15368287,\n",
       "       -310.97977976,  -57.56259705, -190.7796875 , -132.12233451,\n",
       "       -353.09060036, -169.69203539, -111.40855277, -191.64436731,\n",
       "       -169.45028403, -217.99408313, -480.59905915,  -88.52389184,\n",
       "       -113.871911  , -373.81805969, -339.73125853, -510.58785295,\n",
       "       -358.30319494,  -70.12359361, -178.13078744, -382.39516288,\n",
       "       -194.19174093, -478.05872818, -474.19217844, -158.84104633,\n",
       "        -67.87012455, -123.64575188,  -74.17826771, -431.99086844,\n",
       "       -334.92533859, -513.15379328, -261.00014353, -475.81761544,\n",
       "       -339.50545565, -476.78007211,  -29.23320589, -331.5138362 ,\n",
       "       -272.22453184, -150.80206079, -346.1594328 , -398.52572485,\n",
       "       -157.98724151,  -47.83221133, -204.36348909, -291.80888398,\n",
       "       -343.74959431, -402.70474482, -305.85293377, -334.36667834,\n",
       "       -174.83729653, -190.70717838, -184.48778472, -368.57853506,\n",
       "       -186.31066783, -141.26477029, -308.73163316, -269.99399923,\n",
       "        -15.19023065, -552.74601118, -302.81314731,  -84.0611587 ,\n",
       "       -484.55988833,  -51.84153949, -414.69120015, -110.08519197,\n",
       "       -146.33371249, -456.21412405, -193.28352344, -239.54635817,\n",
       "       -188.45611419, -255.83267008, -320.8551844 , -174.73584193,\n",
       "       -218.83469278,  -81.2856079 , -279.58250586, -366.50753969,\n",
       "        -41.65072622, -226.94684299, -124.11699626,    1.55973869,\n",
       "        -48.3655646 ,  -24.76441647, -182.340188  , -486.38577124,\n",
       "       -229.18874751,   44.32486718, -323.17667946, -267.3308298 ,\n",
       "       -306.44791518, -252.96532571, -302.21911627, -327.36994468,\n",
       "       -175.29976607, -454.18154153,   43.48369656, -253.82069923,\n",
       "       -214.37900737, -179.35455919, -124.80093354,  -46.13009549,\n",
       "       -106.98983186, -162.06153467, -256.73811479,  -60.36132502,\n",
       "       -117.07235143, -193.95974894,  -55.04281288,   -6.2140313 ,\n",
       "       -202.05690068,   -5.23734248,   30.08416473,  -22.51061218,\n",
       "        -47.83031538,  -62.48334938, -171.55199724,  -83.26552148,\n",
       "         93.81380565,  -70.31867745, -118.26316352, -294.00637305,\n",
       "        -41.07510531,  -52.11398579,   78.14330476,  -58.22356534,\n",
       "        -87.53634965,  -99.41950536, -358.41851297,   27.6437473 ,\n",
       "        -63.87211349, -337.61958842,   19.07815479,  -41.54978425,\n",
       "       -159.24610467,    2.31920312, -182.92197054,  -42.82568256,\n",
       "       -179.81652396,   74.97943458,  -13.21755131,   -2.72494065,\n",
       "        -76.87794987,  -99.71692792, -374.21936101, -128.51274922,\n",
       "       -188.9873806 ,  -10.39019048,  -71.06928244,   41.56934276,\n",
       "        -35.49615079,   -0.98034148, -347.79623545, -152.71623215,\n",
       "       -217.78773821,  -53.9485901 ,  -37.50291392,   82.78698841,\n",
       "         81.26677456, -221.69989581, -100.16561142,   53.31658505,\n",
       "       -301.66450781,   77.35822344,  -25.16805371,  -33.55399815,\n",
       "          8.79508521,   47.93480022,   68.34750251, -124.80789462,\n",
       "        -25.06415954, -201.70402909,  -85.65583215,  -26.29066495,\n",
       "       -138.65912006, -111.71155795,   92.5359514 , -234.02665126,\n",
       "        236.        ,   47.17484701,   33.23615863,  -99.53323528,\n",
       "         82.04978438,  -32.78545783, -240.56525561,   74.51058289,\n",
       "       -311.96981598,   81.02075833,   24.51383365,  100.61046202,\n",
       "        153.01829871,  -25.11587377, -379.58209937,  -97.3204709 ,\n",
       "         72.4224054 ,  106.96396747,   73.61410801,  -70.35818308])"
      ]
     },
     "execution_count": 349,
     "metadata": {},
     "output_type": "execute_result"
    }
   ],
   "source": [
    "def P_centroid_gradient_matrix(idx_matrix,gradient,mask,cluster):\n",
    "    gradient[mask] = 0\n",
    "    return scipy.ndimage.sum(csc_matrix(gradient).data,idx_matrix.data,index=range(cluster))\n",
    "\n",
    "mask = w_csr.A == 0\n",
    "gradient = weights.copy()\n",
    "cgm = P_centroid_gradient_matrix(idx_csr,gradient,mask,256)\n",
    "np.array(range(256)) - cgm"
   ]
  },
  {
   "cell_type": "code",
   "execution_count": 340,
   "metadata": {},
   "outputs": [
    {
     "data": {
      "text/plain": [
       "<300x784 sparse matrix of type '<class 'numpy.int64'>'\n",
       "\twith 164640 stored elements in Compressed Sparse Column format>"
      ]
     },
     "execution_count": 340,
     "metadata": {},
     "output_type": "execute_result"
    }
   ],
   "source": [
    "idx_csc"
   ]
  },
  {
   "cell_type": "markdown",
   "metadata": {},
   "source": [
    "## CSC Matrix"
   ]
  },
  {
   "cell_type": "code",
   "execution_count": 35,
   "metadata": {},
   "outputs": [],
   "source": [
    "# multiplication\n",
    "# csr * dense"
   ]
  },
  {
   "cell_type": "code",
   "execution_count": 177,
   "metadata": {},
   "outputs": [
    {
     "data": {
      "text/plain": [
       "array([[ 0,  1,  2,  3,  4,  5,  6],\n",
       "       [ 7,  8,  9, 10, 11, 12, 13],\n",
       "       [14, 15, 16, 17, 18, 19, 20]], dtype=int64)"
      ]
     },
     "execution_count": 177,
     "metadata": {},
     "output_type": "execute_result"
    }
   ],
   "source": [
    "cc = csc_matrix(pruned)\n",
    "cr = csr_matrix(pruned)\n",
    "a = np.array(range(21)).reshape(3,7)\n",
    "b = np.array(range(20,41)).reshape(3,7)\n",
    "acc = csc_matrix(a)\n",
    "acr = csr_matrix(a)\n",
    "acc.A"
   ]
  },
  {
   "cell_type": "code",
   "execution_count": 153,
   "metadata": {},
   "outputs": [],
   "source": [
    "# in place\n",
    "def sparse_sub_dense(sparse,dense,mask):\n",
    "    sparse.A -= dense\n",
    "    sparse.A[mask] = 0\n",
    "    return csc_matrix((sparse.data,sparse.indices,sparse.indptr))"
   ]
  },
  {
   "cell_type": "code",
   "execution_count": 164,
   "metadata": {},
   "outputs": [
    {
     "name": "stdout",
     "output_type": "stream",
     "text": [
      "2.18 ms ± 34.5 µs per loop (mean ± std. dev. of 7 runs, 100 loops each)\n",
      "1.58 ms ± 92.2 µs per loop (mean ± std. dev. of 7 runs, 1000 loops each)\n"
     ]
    }
   ],
   "source": [
    "maskBig = cc.A == 0 \n",
    "%timeit sparse_subtract_dense(cc,weights-1,maskBig)\n",
    "%timeit sparse_subtract_dense(cr,weights-1,maskBig)"
   ]
  },
  {
   "cell_type": "code",
   "execution_count": 144,
   "metadata": {},
   "outputs": [],
   "source": [
    "def delete_last_row_csc(matrix):\n",
    "    i = matrix.indptr[-1]\n",
    "    indptr = matrix.indptr[:-1]\n",
    "    data = matrix.data[:i]\n",
    "    indices = matrix.indices[:i]\n",
    "    return csc_matrix((data,indices,indptr))"
   ]
  },
  {
   "cell_type": "code",
   "execution_count": 145,
   "metadata": {},
   "outputs": [
    {
     "name": "stdout",
     "output_type": "stream",
     "text": [
      "164 µs ± 371 ns per loop (mean ± std. dev. of 7 runs, 10000 loops each)\n"
     ]
    }
   ],
   "source": [
    "%timeit delete_last_row(t)"
   ]
  },
  {
   "cell_type": "code",
   "execution_count": 191,
   "metadata": {},
   "outputs": [
    {
     "data": {
      "text/plain": [
       "(array([ 26,  89, 152], dtype=int64),\n",
       " array([ 26,  89, 152], dtype=int64),\n",
       " array([ 26,  89, 152], dtype=int64))"
      ]
     },
     "execution_count": 191,
     "metadata": {},
     "output_type": "execute_result"
    }
   ],
   "source": [
    "v = np.array([1,2,1,1,2,1,1])\n",
    "np.inner(acc.A,v),acc*v.T,acc*v"
   ]
  },
  {
   "cell_type": "code",
   "execution_count": null,
   "metadata": {},
   "outputs": [],
   "source": []
  }
 ],
 "metadata": {
  "kernelspec": {
   "display_name": "Python 3",
   "language": "python",
   "name": "python3"
  },
  "language_info": {
   "codemirror_mode": {
    "name": "ipython",
    "version": 3
   },
   "file_extension": ".py",
   "mimetype": "text/x-python",
   "name": "python",
   "nbconvert_exporter": "python",
   "pygments_lexer": "ipython3",
   "version": "3.6.4"
  },
  "widgets": {
   "application/vnd.jupyter.widget-state+json": {
    "state": {},
    "version_major": 2,
    "version_minor": 0
   }
  }
 },
 "nbformat": 4,
 "nbformat_minor": 2
}
