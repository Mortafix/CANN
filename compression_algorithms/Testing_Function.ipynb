{
 "cells": [
  {
   "cell_type": "code",
   "execution_count": 1,
   "metadata": {},
   "outputs": [],
   "source": [
    "import numpy as np\n",
    "from sklearn.cluster import MiniBatchKMeans\n",
    "from numpy.random import rand,randint\n",
    "import scipy.ndimage\n",
    "from scipy.sparse import csr_matrix\n",
    "import json\n",
    "import matplotlib.pyplot as plt\n",
    "import queue\n",
    "import functools\n",
    "import pandas"
   ]
  },
  {
   "cell_type": "code",
   "execution_count": 2,
   "metadata": {},
   "outputs": [],
   "source": [
    "RANDOM_SEED = 42\n",
    "cluster_number = 256\n",
    "weights = rand(300,784)"
   ]
  },
  {
   "cell_type": "markdown",
   "metadata": {},
   "source": [
    "### Clustering"
   ]
  },
  {
   "cell_type": "code",
   "execution_count": 3,
   "metadata": {},
   "outputs": [],
   "source": [
    "def reshape_weights_for_kmeans(weights):\n",
    "    return np.hstack(weights).reshape(-1,1)\n",
    "\n",
    "def build_clusters(cluster,weights):\n",
    "    kmeans = MiniBatchKMeans(n_clusters=cluster,random_state=RANDOM_SEED)\n",
    "    kmeans.fit(reshape_weights_for_kmeans(weights))\n",
    "    return kmeans.cluster_centers_"
   ]
  },
  {
   "cell_type": "code",
   "execution_count": 4,
   "metadata": {},
   "outputs": [],
   "source": [
    "def nearest_centroid_index(centers,value):\n",
    "    centers = np.asarray(centers)\n",
    "    return (np.abs(centers - value)).argmin()\n",
    "\n",
    "def nearest_centroid(centers,value):\n",
    "    centers = np.asarray(centers)\n",
    "    idx = (np.abs(centers - value)).argmin()\n",
    "    return centers[idx]"
   ]
  },
  {
   "cell_type": "markdown",
   "metadata": {},
   "source": [
    "### Matrix"
   ]
  },
  {
   "cell_type": "code",
   "execution_count": 5,
   "metadata": {},
   "outputs": [],
   "source": [
    "def redefine_weights(weights,centers):\n",
    "    arr_ret = np.empty_like(weights).astype(np.int16)\n",
    "    for i, row in enumerate(weights):\n",
    "        for j, col in enumerate(row):\n",
    "            arr_ret[i,j] = nearest_centroid_index(centers,weights[i,j])\n",
    "    return arr_ret"
   ]
  },
  {
   "cell_type": "code",
   "execution_count": 6,
   "metadata": {},
   "outputs": [],
   "source": [
    "def idx_matrix_to_matrix(idx_matrix,centers,shape):\n",
    "    return centers[idx_matrix.reshape(-1,1)].reshape(shape)"
   ]
  },
  {
   "cell_type": "code",
   "execution_count": 7,
   "metadata": {},
   "outputs": [],
   "source": [
    "def centroid_gradient_matrix(idx_matrix,gradient,cluster):\n",
    "    return scipy.ndimage.sum(gradient,idx_matrix,index=range(cluster))"
   ]
  },
  {
   "cell_type": "markdown",
   "metadata": {},
   "source": [
    "### Dictionary"
   ]
  },
  {
   "cell_type": "code",
   "execution_count": 8,
   "metadata": {},
   "outputs": [],
   "source": [
    "# map (i,j) -> k\n",
    "def dict_index_to_cluster(weights,centers):\n",
    "        dict_ret = {}\n",
    "        for i, row in enumerate(weights):\n",
    "            for j, col in enumerate(row):\n",
    "                dict_ret[(i,j)] = nearest_centroid_index(centers,weights[i,j])\n",
    "        return dict_ret\n",
    "\n",
    "# map k -> (i,j)\n",
    "def dict_cluster_to_index(dict_idx):\n",
    "    dict_ret = {}\n",
    "    for k,v in dict_idx.items():\n",
    "        if v in dict_ret:\n",
    "            dict_ret[v] += [k]\n",
    "        else:\n",
    "            dict_ret[v] = [k]\n",
    "    return dict_ret"
   ]
  },
  {
   "cell_type": "code",
   "execution_count": 9,
   "metadata": {},
   "outputs": [],
   "source": [
    "def index_dict_to_matrix(dict_index,dict_values,shape):\n",
    "    coord_array = np.asarray(list(dict_index.values()))\n",
    "    return dict_values[coord_array].reshape(shape)"
   ]
  },
  {
   "cell_type": "code",
   "execution_count": 10,
   "metadata": {},
   "outputs": [],
   "source": [
    "def centroid_gradient_dict(K_Index,W_Matrix):\n",
    "    tmpindex = dict((key, ([x for x, _ in value], [y for _, y in value])) for key, value in K_Index.items())\n",
    "    return [W_Matrix[value[0],value[1]].sum() for value in tmpindex.values()]"
   ]
  },
  {
   "cell_type": "markdown",
   "metadata": {},
   "source": [
    "### Variables"
   ]
  },
  {
   "cell_type": "code",
   "execution_count": 11,
   "metadata": {},
   "outputs": [],
   "source": [
    "centers = build_clusters(cluster_number,weights)\n",
    "dict_index = dict_index_to_cluster(weights,centers)\n",
    "dict_cluster = dict_cluster_to_index(dict_index)\n",
    "matrix_index = redefine_weights(weights,centers)"
   ]
  },
  {
   "cell_type": "markdown",
   "metadata": {},
   "source": [
    "### Testing"
   ]
  },
  {
   "cell_type": "code",
   "execution_count": 12,
   "metadata": {},
   "outputs": [
    {
     "name": "stdout",
     "output_type": "stream",
     "text": [
      "642 µs ± 1.31 µs per loop (mean ± std. dev. of 7 runs, 1000 loops each)\n",
      "16.9 ms ± 73.6 µs per loop (mean ± std. dev. of 7 runs, 100 loops each)\n"
     ]
    }
   ],
   "source": [
    "%timeit idx_matrix_to_matrix(matrix_index,centers,(300,784))\n",
    "%timeit index_dict_to_matrix(dict_index,centers,(300,784))"
   ]
  },
  {
   "cell_type": "code",
   "execution_count": 13,
   "metadata": {},
   "outputs": [
    {
     "name": "stdout",
     "output_type": "stream",
     "text": [
      "1.52 ms ± 8.66 µs per loop (mean ± std. dev. of 7 runs, 1000 loops each)\n",
      "80.9 ms ± 1.2 ms per loop (mean ± std. dev. of 7 runs, 10 loops each)\n"
     ]
    }
   ],
   "source": [
    "%timeit centroid_gradient_matrix(matrix_index,weights,cluster_number)\n",
    "%timeit centroid_gradient_dict(dict_cluster,weights)"
   ]
  },
  {
   "cell_type": "markdown",
   "metadata": {},
   "source": [
    "### Transform"
   ]
  },
  {
   "cell_type": "code",
   "execution_count": 14,
   "metadata": {},
   "outputs": [],
   "source": [
    "def dict_to_index_matrix_slow(dict_cluster):\n",
    "    arr_ret = np.zeros((300,785))\n",
    "    for k,v in dict_cluster.items():\n",
    "        for i in v:\n",
    "            arr_ret[i] = k\n",
    "    return arr_ret\n",
    "\n",
    "def dict_to_index_matrix(dict_index,shape):\n",
    "    return np.asarray(list(dict_index.values())).reshape(shape).astype(np.int16)"
   ]
  },
  {
   "cell_type": "code",
   "execution_count": 15,
   "metadata": {},
   "outputs": [
    {
     "name": "stdout",
     "output_type": "stream",
     "text": [
      "49.8 ms ± 995 µs per loop (mean ± std. dev. of 7 runs, 10 loops each)\n",
      "16.4 ms ± 56.5 µs per loop (mean ± std. dev. of 7 runs, 100 loops each)\n"
     ]
    }
   ],
   "source": [
    "%timeit dict_to_index_matrix_slow(dict_cluster)\n",
    "%timeit dict_to_index_matrix(dict_index,(300,784))"
   ]
  },
  {
   "cell_type": "markdown",
   "metadata": {},
   "source": [
    "# HELPER FUNCTION"
   ]
  },
  {
   "cell_type": "markdown",
   "metadata": {},
   "source": [
    "#### Cluster mean"
   ]
  },
  {
   "cell_type": "code",
   "execution_count": 17,
   "metadata": {},
   "outputs": [],
   "source": [
    "def mean_distance(weights,centroids):\n",
    "    tot = 0.\n",
    "    for i, row in enumerate(weights):\n",
    "        for j, col in enumerate(row):\n",
    "            weight = weights[i,j]\n",
    "            centroid = nearest_centroid(centroids,weight)[0]\n",
    "            tot += np.sqrt((weight - centroid)**2)\n",
    "    return tot / ((i+1)*(j+1))"
   ]
  },
  {
   "cell_type": "code",
   "execution_count": 18,
   "metadata": {},
   "outputs": [
    {
     "name": "stdout",
     "output_type": "stream",
     "text": [
      "Mean for 001 clusters 0.250563 \n",
      "Mean for 011 clusters 0.022781 \n",
      "Mean for 021 clusters 0.012038 \n",
      "Mean for 031 clusters 0.008130 \n",
      "Mean for 041 clusters 0.006277 \n",
      "Mean for 051 clusters 0.005040 \n",
      "Mean for 061 clusters 0.004181 \n",
      "Mean for 071 clusters 0.003602 \n",
      "Mean for 081 clusters 0.003128 \n",
      "Mean for 091 clusters 0.002880 \n",
      "Mean for 101 clusters 0.002646 \n"
     ]
    }
   ],
   "source": [
    "def find_clusters_number(values,n_from,n_to,n_jump):\n",
    "    result = {}\n",
    "    for i in range(n_from,n_to+1,n_jump):\n",
    "        kmeans = MiniBatchKMeans(n_clusters=i,random_state=RANDOM_SEED)\n",
    "        kmeans.fit(reshape_weights_for_kmeans(values))\n",
    "        mean = mean_distance(values,kmeans.cluster_centers_)\n",
    "        result[i] = mean\n",
    "        print(\"Mean for %s clusters %f \" % (str(i).zfill(3),mean))\n",
    "    return result\n",
    "        \n",
    "means_cluster_1_10 = find_clusters_number(weights,1,101,10)"
   ]
  },
  {
   "cell_type": "markdown",
   "metadata": {},
   "source": [
    "## Huffman Coding"
   ]
  },
  {
   "cell_type": "code",
   "execution_count": 19,
   "metadata": {},
   "outputs": [
    {
     "data": {
      "image/png": "[encoded data removed]",
      "text/plain": [
       "<matplotlib.figure.Figure at 0x111cb0630>"
      ]
     },
     "metadata": {},
     "output_type": "display_data"
    }
   ],
   "source": [
    "cluster_sparsity = [(len(dict_cluster[x]),x) for x in dict_cluster]\n",
    "cluster_sparsity = sorted(cluster_sparsity, key=lambda x: x[0] )\n",
    "plt.bar([x[1] for x in cluster_sparsity], [x[0] for x in cluster_sparsity], width=1)\n",
    "plt.show()"
   ]
  },
  {
   "cell_type": "code",
   "execution_count": 20,
   "metadata": {},
   "outputs": [
    {
     "data": {
      "image/png": "[encoded data removed]",
      "text/plain": [
       "<matplotlib.figure.Figure at 0x1a1ba37b38>"
      ]
     },
     "metadata": {},
     "output_type": "display_data"
    }
   ],
   "source": [
    "plt.bar(range(len(cluster_sparsity)), [x[0] for x in sorted(cluster_sparsity, key=lambda x: x[0], reverse=True)], width=1)\n",
    "plt.show()"
   ]
  },
  {
   "cell_type": "code",
   "execution_count": 21,
   "metadata": {},
   "outputs": [],
   "source": [
    "@functools.total_ordering\n",
    "class HuffmanNode(object):\n",
    "    def __init__(self, left=None, right=None):\n",
    "        self.left = left\n",
    "        self.right = right\n",
    "    def children(self):\n",
    "        return((self.left, self.right))\n",
    "    def __lt__(self, other):\n",
    "        return True\n",
    "\n",
    "def create_tree(frequencies):\n",
    "    p = queue.PriorityQueue()\n",
    "    for value in frequencies:\n",
    "        p.put(value)\n",
    "    while p.qsize() > 1:\n",
    "        l, r = p.get(), p.get()\n",
    "        node = HuffmanNode(l, r)\n",
    "        p.put((l[0]+r[0], node))    \n",
    "    return p.get()\n",
    "\n",
    "# Dictionary (n : \"01010\")\n",
    "def coding_tree(node, prefix=\"\", code={}):\n",
    "    if isinstance(node[1].left[1], HuffmanNode):\n",
    "        coding_tree(node[1].left,prefix+\"0\", code)\n",
    "    else:\n",
    "        code[node[1].left[1]]=prefix+\"0\"\n",
    "    if isinstance(node[1].right[1],HuffmanNode):\n",
    "        coding_tree(node[1].right,prefix+\"1\", code)\n",
    "    else:\n",
    "        code[node[1].right[1]]=prefix+\"1\"\n",
    "    return(code)\n",
    "\n",
    "def decode(rev_huff,code):\n",
    "    for k, v in rev_huff.items():\n",
    "        if v == code:\n",
    "            return k\n",
    "        \n",
    "def encode(rev_huff,code):\n",
    "    return rev_huff[code]\n",
    "\n",
    "# Dictionary (\"01010\" : n)\n",
    "def reverse_code(huff):\n",
    "    huff_code_rev = {}    \n",
    "    for k,v in huff.items():\n",
    "        huff_code_rev[v] = k\n",
    "    return huff_code_rev\n",
    "\n",
    "def rev_encode(rev_huff,code):\n",
    "    return decode(rev_huff,code)\n",
    "        \n",
    "def rev_decode(rev_huff,code):\n",
    "    return encode(rev_huff,code)"
   ]
  },
  {
   "cell_type": "code",
   "execution_count": 22,
   "metadata": {},
   "outputs": [],
   "source": [
    "cluster_sparsity = [(len(v),k) for k,v in dict_cluster.items()]\n",
    "ht_cluster = create_tree(cluster_sparsity)\n",
    "hc_cluster = coding_tree(ht_cluster,code={})\n",
    "hc_rev = reverse_code(hc_cluster)"
   ]
  },
  {
   "cell_type": "code",
   "execution_count": 23,
   "metadata": {},
   "outputs": [],
   "source": [
    "def nearest_centroid_index_huffman(centers,value):\n",
    "    centers = np.asarray(centers)\n",
    "    idx = (np.abs(centers - value)).argmin()\n",
    "    return encode(hc_cluster,idx)\n",
    "\n",
    "def redefine_weights_huffman(weights,centers):\n",
    "    arr_ret = np.empty_like(weights).astype(str)\n",
    "    for i, row in enumerate(weights):\n",
    "        for j, col in enumerate(row):\n",
    "            arr_ret[i,j] = nearest_centroid_index_huffman(centers,weights[i,j])\n",
    "    return arr_ret\n",
    "\n",
    "def dict_index_to_cluster_huffman(weights,centers):\n",
    "        dict_ret = {}\n",
    "        for i, row in enumerate(weights):\n",
    "            for j, col in enumerate(row):\n",
    "                dict_ret[(i,j)] = nearest_centroid_index_huffman(centers,weights[i,j])\n",
    "        return dict_ret\n",
    "    \n",
    "def index_dict_to_matrix_huffman(dict_index,dict_values,huff_code,shape):\n",
    "    coord_array = np.asarray([rev_decode(huff_code,x) for x in huff_dict_index.values()])\n",
    "    return dict_values[coord_array].reshape(shape)\n",
    "\n",
    "def centroid_gradient_matrix_huffman(idx_huff_matrix,gradient,cluster):\n",
    "    return scipy.ndimage.sum(gradient,idx_huff_matrix,[x for x in cluster.values()])\n",
    "\n",
    "huff_index_matrix = redefine_weights_huffman(weights,centers)\n",
    "huff_dict_index = dict_index_to_cluster_huffman(weights,centers)"
   ]
  },
  {
   "cell_type": "code",
   "execution_count": 24,
   "metadata": {},
   "outputs": [
    {
     "name": "stdout",
     "output_type": "stream",
     "text": [
      "17.9 ms ± 344 µs per loop (mean ± std. dev. of 7 runs, 100 loops each)\n",
      "57.3 ms ± 1.24 ms per loop (mean ± std. dev. of 7 runs, 10 loops each)\n"
     ]
    }
   ],
   "source": [
    "%timeit index_dict_to_matrix(dict_index,centers,(300,784))\n",
    "%timeit index_dict_to_matrix_huffman(huff_dict_index,centers,hc_rev,(300,784))"
   ]
  },
  {
   "cell_type": "code",
   "execution_count": 25,
   "metadata": {},
   "outputs": [
    {
     "name": "stdout",
     "output_type": "stream",
     "text": [
      "1.28 ms ± 28.5 µs per loop (mean ± std. dev. of 7 runs, 1000 loops each)\n",
      "110 ms ± 1.85 ms per loop (mean ± std. dev. of 7 runs, 10 loops each)\n"
     ]
    }
   ],
   "source": [
    "%timeit centroid_gradient_matrix(matrix_index,weights,cluster_number)\n",
    "%timeit centroid_gradient_matrix_huffman(huff_index_matrix,weights,hc_cluster)"
   ]
  },
  {
   "cell_type": "markdown",
   "metadata": {},
   "source": [
    "## PRUNING (with kmeans support)"
   ]
  },
  {
   "cell_type": "code",
   "execution_count": 72,
   "metadata": {},
   "outputs": [],
   "source": [
    "def pruning_matrix(mat,percentage,method='out'):\n",
    "    threshold = (100-percentage)\n",
    "    \n",
    "    if method == 'inout':\n",
    "        threshold /= 4\n",
    "        perc_up,perc_down,perc_mid_up,perc_mid_down = 100 - threshold, threshold, 50 + threshold, 50 - threshold\n",
    "        percentile_up = np.percentile(mat,perc_up)\n",
    "        percentile_down = np.percentile(mat,perc_down)\n",
    "        percentile_mid_up = np.percentile(mat,perc_mid_up)\n",
    "        percentile_mid_down = np.percentile(mat,perc_mid_down)\n",
    "    else:\n",
    "        threshold /= 2\n",
    "        if method == 'in': perc_up, perc_down = 50 + threshold, 50 - threshold\n",
    "        elif method == 'out': perc_up, perc_down = 100 - threshold, threshold\n",
    "        percentile_up = np.percentile(mat,perc_up)\n",
    "        percentile_down = np.percentile(mat,perc_down)\n",
    "        \n",
    "    w_pruned = np.copy(mat)\n",
    "    for i,row in enumerate(mat):\n",
    "        for j,_ in enumerate(row):\n",
    "            if method == 'in':\n",
    "                if mat[i,j] > percentile_down and mat[i,j] < percentile_up:\n",
    "                    w_pruned[i,j] = 0\n",
    "            elif method == 'out':\n",
    "                if mat[i,j] < percentile_down or mat[i,j] > percentile_up:\n",
    "                    w_pruned[i,j] = 0\n",
    "            elif method == 'inout':\n",
    "                if mat[i,j] < percentile_down or mat[i,j] > percentile_up or (mat[i,j] > percentile_mid_down and mat[i,j] < percentile_mid_up):\n",
    "                    w_pruned[i,j] = 0\n",
    "    return csr_matrix(w_pruned)"
   ]
  },
  {
   "cell_type": "code",
   "execution_count": 75,
   "metadata": {},
   "outputs": [
    {
     "data": {
      "text/plain": [
       "0.7"
      ]
     },
     "execution_count": 75,
     "metadata": {},
     "output_type": "execute_result"
    }
   ],
   "source": [
    "w_csr = pruning_matrix(weights,70,method='inout')\n",
    "len(w_csr.nonzero()[0])/(300*784)"
   ]
  },
  {
   "cell_type": "code",
   "execution_count": 37,
   "metadata": {},
   "outputs": [],
   "source": [
    "def P_build_clusters(cluster,weights):\n",
    "    kmeans = MiniBatchKMeans(n_clusters=cluster,random_state=RANDOM_SEED)\n",
    "    kmeans.fit(weights.data.reshape(-1,1))\n",
    "    return kmeans.cluster_centers_\n",
    "\n",
    "P_centers = P_build_clusters(256,w_csr)"
   ]
  },
  {
   "cell_type": "code",
   "execution_count": 38,
   "metadata": {},
   "outputs": [],
   "source": [
    "def P_nearest_centroid_index(centers,value):\n",
    "    centers = np.asarray(centers)\n",
    "    return (np.abs(centers - value)).argmin()"
   ]
  },
  {
   "cell_type": "code",
   "execution_count": 39,
   "metadata": {},
   "outputs": [],
   "source": [
    "def P_redefine_weights(weights,centers):\n",
    "    csr_idx = weights.copy()\n",
    "    arr_ret = np.empty_like(csr_idx.data).astype(np.int16)\n",
    "    for i,w in enumerate(csr_idx.data):\n",
    "        arr_ret[i] = P_nearest_centroid_index(centers,w)\n",
    "    csr_idx.data = arr_ret\n",
    "    return csr_idx\n",
    "\n",
    "idx_csr = P_redefine_weights(w_csr,P_centers)"
   ]
  },
  {
   "cell_type": "code",
   "execution_count": 40,
   "metadata": {},
   "outputs": [
    {
     "name": "stdout",
     "output_type": "stream",
     "text": [
      "450 µs ± 1.8 µs per loop (mean ± std. dev. of 7 runs, 1000 loops each)\n"
     ]
    }
   ],
   "source": [
    "def P_idx_matrix_to_matrix(idx_matrix,centers):\n",
    "    w_csr = idx_matrix.copy()\n",
    "    w_csr.data = centers[w_csr.data]\n",
    "    return w_csr\n",
    "\n",
    "%timeit P_idx_matrix_to_matrix(idx_csr,P_centers)"
   ]
  },
  {
   "cell_type": "code",
   "execution_count": 41,
   "metadata": {},
   "outputs": [
    {
     "name": "stdout",
     "output_type": "stream",
     "text": [
      "1.59 ms ± 47 µs per loop (mean ± std. dev. of 7 runs, 1000 loops each)\n"
     ]
    }
   ],
   "source": [
    "def P_centroid_gradient_matrix(idx_matrix,gradient,cluster):\n",
    "    return scipy.ndimage.sum(gradient,idx_matrix.todense(),index=range(cluster))\n",
    "\n",
    "%timeit P_centroid_gradient_matrix(idx_csr,weights[0],256)"
   ]
  },
  {
   "cell_type": "code",
   "execution_count": null,
   "metadata": {},
   "outputs": [],
   "source": []
  }
 ],
 "metadata": {
  "kernelspec": {
   "display_name": "Python 3",
   "language": "python",
   "name": "python3"
  },
  "language_info": {
   "codemirror_mode": {
    "name": "ipython",
    "version": 3
   },
   "file_extension": ".py",
   "mimetype": "text/x-python",
   "name": "python",
   "nbconvert_exporter": "python",
   "pygments_lexer": "ipython3",
   "version": "3.6.4"
  },
  "widgets": {
   "application/vnd.jupyter.widget-state+json": {
    "state": {},
    "version_major": 2,
    "version_minor": 0
   }
  }
 },
 "nbformat": 4,
 "nbformat_minor": 2
}
