{
 "cells": [
  {
   "cell_type": "markdown",
   "metadata": {},
   "source": [
    "# NEURAL NETWORK with K-MEANS for MNIST"
   ]
  },
  {
   "cell_type": "markdown",
   "metadata": {},
   "source": [
    "#### Import"
   ]
  },
  {
   "cell_type": "code",
   "execution_count": 17,
   "metadata": {},
   "outputs": [],
   "source": [
    "import sys\n",
    "import time\n",
    "import pickle\n",
    "import gzip\n",
    "from random import randint\n",
    "from scipy import misc\n",
    "from scipy import special\n",
    "import numpy as np\n",
    "import datetime as dt\n",
    "from sklearn.cluster import KMeans\n",
    "import matplotlib.pyplot as plt\n",
    "import json"
   ]
  },
  {
   "cell_type": "markdown",
   "metadata": {},
   "source": [
    "#### Timing function"
   ]
  },
  {
   "cell_type": "code",
   "execution_count": 2,
   "metadata": {},
   "outputs": [],
   "source": [
    "def timing(f):\n",
    "    def wrap(*args):\n",
    "        time1 = time.time()\n",
    "        ret = f(*args)\n",
    "        time2 = time.time()\n",
    "        print('%s function took %0.2f ms' % (f.__name__, (time2-time1)*1000.0))\n",
    "        return ret\n",
    "    return wrap"
   ]
  },
  {
   "cell_type": "markdown",
   "metadata": {},
   "source": [
    "#### Initial Settings"
   ]
  },
  {
   "cell_type": "code",
   "execution_count": 3,
   "metadata": {},
   "outputs": [],
   "source": [
    "DATA_PATH = 'data/mnist/'\n",
    "\n",
    "IMAGES_TRAIN = 'data_training'\n",
    "IMAGES_TEST = 'data_testing'\n",
    "\n",
    "RANDOM_SEED = 42\n",
    "N_CLASSES = 10\n",
    "N_FEATURES = 28 * 28"
   ]
  },
  {
   "cell_type": "code",
   "execution_count": 4,
   "metadata": {},
   "outputs": [],
   "source": [
    "data_training = DATA_PATH+IMAGES_TRAIN\n",
    "data_testing = DATA_PATH+IMAGES_TEST\n",
    "ft = gzip.open(data_training, 'rb')\n",
    "TRAINING = pickle.load(ft)\n",
    "ft.close()\n",
    "ft = gzip.open(data_testing, 'rb')\n",
    "TESTING = pickle.load(ft)\n",
    "ft.close()"
   ]
  },
  {
   "cell_type": "markdown",
   "metadata": {},
   "source": [
    "## Neural Network"
   ]
  },
  {
   "cell_type": "code",
   "execution_count": 5,
   "metadata": {},
   "outputs": [],
   "source": [
    "class Neural_Network:\n",
    "\n",
    "    def __init__(self, neurons=100, epochs=0, batchsize=20):\n",
    "        self.input_size = N_FEATURES\n",
    "        self.output_size = N_CLASSES\n",
    "        self.neurons = neurons\n",
    "        self.batchsize = batchsize\n",
    "        \n",
    "        # Decide training method (epochs or covergence)\n",
    "        self.epochs = epochs\n",
    "        if epochs == 0:\n",
    "            self.best = 0.\n",
    "            self.same = 0\n",
    "\n",
    "        # Standardize random weights\n",
    "        np.random.seed(RANDOM_SEED)\n",
    "        hidden_layer = np.random.rand(self.neurons, self.input_size + 1) / self.neurons\n",
    "        output_layer = np.random.rand(self.output_size, self.neurons + 1) / self.output_size\n",
    "        self.layers = [hidden_layer, output_layer]\n",
    "        self.iteration = 0\n",
    "\n",
    "    def train(self, training):\n",
    "        \n",
    "        # Start prints \n",
    "        self.start_time = dt.datetime.now()\n",
    "        print('-- Training Session Start (%s) --' % (self.start_time))\n",
    "        typeTrainingPrint = \"Epochs: \"+str(self.epochs)\n",
    "        if self.epochs == 0:\n",
    "            typeTrainingPrint = \"Until 5 iterations w/o improvements\";\n",
    "        print('\\nNeurons: %d\\nBatch Size: %d\\n%s\\n' % (self.neurons,self.batchsize,typeTrainingPrint))\n",
    "        \n",
    "        # Divide training batches\n",
    "        inputs = training[0][0:self.batchsize]\n",
    "        targets = np.zeros((self.batchsize, 10))\n",
    "        for i in range(self.batchsize):\n",
    "            targets[i, training[1][i]] = 1\n",
    "\n",
    "        # Performs iterations\n",
    "        while (self.epochs == 0 and self.same < 10) or (self.iteration < self.epochs):\n",
    "            for input_vector, target_vector in zip(inputs, targets):\n",
    "                self.backpropagate(input_vector, target_vector)\n",
    "                \n",
    "            # ETA\n",
    "            diff = dt.datetime.now() - self.start_time\n",
    "            eta = divmod(diff.days * 86400 + diff.seconds, 60)\n",
    "            if eta[0] != 0:\n",
    "                etaPrint = str(eta[0])+\"m\"\n",
    "            else:\n",
    "                etaPrint = \"\"\n",
    "            etaPrint += str(eta[1])+\"s\"\n",
    "            \n",
    "            # Accuracy\n",
    "            accu = self.accu(TESTING)\n",
    "            self.iteration += 1\n",
    "            \n",
    "            # Messages\n",
    "            if (self.iteration == 1 or self.iteration % 10 == 0 or self.iteration == self.epochs):\n",
    "                self.print_message_iter(self.iteration,accu,etaPrint)\n",
    "            \n",
    "            # Control coverange\n",
    "            if self.epochs == 0:\n",
    "                if accu[0] > self.best:\n",
    "                    self.same = 0\n",
    "                    self.best = accu[0]\n",
    "                else:\n",
    "                    self.same += 1\n",
    "                \n",
    "        # Print last epoch in coverange situation\n",
    "        if self.iteration % 10 != 0:\n",
    "            self.print_message_iter(self.iteration,accu,etaPrint)\n",
    "\n",
    "        # Final message\n",
    "        print('\\n-- Training Session End (%s) --' % (dt.datetime.now()))\n",
    "\n",
    "    def feed_forward(self, input_vector):\n",
    "        \"\"\"Takes a network (Matrix list) and returns the outputs of both\n",
    "         layers by propagating the entry\"\"\"\n",
    "        outputs = []\n",
    "        for layer in self.layers:\n",
    "            input_with_bias = np.append(input_vector, 1)   # Ajout constante\n",
    "            output = np.inner(layer, input_with_bias)\n",
    "            output = special.expit(output)\n",
    "            outputs.append(output)\n",
    "            # The output is the input of the next layer\n",
    "            input_vector = output\n",
    "        return outputs\n",
    "\n",
    "    def backpropagate(self, input_vector, target):\n",
    "        \"\"\"Reduce error for one input vector:\n",
    "        Calculating the partial derivatives for each coeff then subtracts\"\"\"\n",
    "        c = 1./(self.iteration + 10)  # Learning coefficient\n",
    "        hidden_outputs, outputs = self.feed_forward(input_vector)\n",
    "\n",
    "        # Calculation of partial derivatives for the output layer and subtraction\n",
    "        output_deltas = outputs * (1 - outputs) * (outputs - target)\n",
    "        self.layers[-1] -= c*np.outer(output_deltas, np.append(hidden_outputs, 1))\n",
    "\n",
    "        # Calculation of partial derivatives for the hidden layer and subtraction\n",
    "        hidden_deltas = hidden_outputs * (1 - hidden_outputs) * \\\n",
    "            np.dot(np.delete(self.layers[-1], 200, 1).T, output_deltas)\n",
    "        self.layers[0] -= c*np.outer(hidden_deltas, np.append(input_vector, 1))\n",
    "\n",
    "    def predict(self, input_vector):\n",
    "        return self.feed_forward(input_vector)[-1]\n",
    "\n",
    "    def predict_one(self, input_vector):\n",
    "        return np.argmax(self.feed_forward(input_vector)[-1])\n",
    "\n",
    "    def load(self, file_name):\n",
    "        f = open(file_name, 'rb')\n",
    "        self.layers = pickle.load(f, encoding='latin1')\n",
    "        f.close()\n",
    "\n",
    "    def accu(self, testing):\n",
    "        \"\"\"The lowest precision digit and total\"\"\"\n",
    "        res = np.zeros((10, 2))\n",
    "        for k in range(len(testing[1])):\n",
    "            if self.predict_one(testing[0][k]) == testing[1][k]:\n",
    "                res[testing[1][k]] += 1\n",
    "            else:\n",
    "                res[testing[1][k]][1] += 1\n",
    "        total = np.sum(res, axis=0)\n",
    "        each = [res[k][0]/res[k][1] for k in range(len(res))]\n",
    "        min_c = sorted(range(len(each)), key=lambda k: each[k])[0]\n",
    "        return np.round([each[min_c]*100, total[0]/total[1]*100, min_c], 2)\n",
    "    \n",
    "    def print_message_iter(self,iteration,accu,eta):\n",
    "        len_eta = len(eta)\n",
    "        space_fill = 6 - len_eta\n",
    "        eta = \"(\"+eta+\")\"\n",
    "        for _ in range(space_fill):\n",
    "            eta += \" \"\n",
    "        message = 'Epoch '+str(self.iteration).zfill(3) + \" \"+eta+\" \"\n",
    "        message += 'Precision G:'+str(accu[1]).zfill(4)+'%\\tMin:'+ str(accu[0]).zfill(4)+ '% ('+str(int(accu[2]))+')'\n",
    "        print(message)\n",
    "        \n",
    "    def getWeights(self):\n",
    "        return self.layers"
   ]
  },
  {
   "cell_type": "code",
   "execution_count": 81,
   "metadata": {},
   "outputs": [
    {
     "name": "stdout",
     "output_type": "stream",
     "text": [
      "-- Training Session Start (2018-07-03 16:34:58.840891) --\n",
      "\n",
      "Neurons: 300\n",
      "Batch Size: 5000\n",
      "Until 5 iterations w/o improvements\n",
      "\n",
      "Epoch 001 (4s)     Precision G:75.71%\tMin:16.63% (8)\n",
      "Epoch 010 (52s)    Precision G:90.93%\tMin:80.99% (3)\n",
      "Epoch 020 (1m43s)  Precision G:92.0%\tMin:87.33% (3)\n",
      "Epoch 030 (2m33s)  Precision G:92.51%\tMin:89.0% (9)\n",
      "Epoch 040 (3m24s)  Precision G:92.65%\tMin:89.4% (9)\n",
      "Epoch 050 (4m15s)  Precision G:92.76%\tMin:89.59% (9)\n",
      "Epoch 060 (5m6s)   Precision G:92.91%\tMin:89.79% (9)\n",
      "Epoch 069 (5m57s)  Precision G:92.95%\tMin:89.69% (9)\n",
      "\n",
      "-- Training Session End (2018-07-03 16:40:56.786771) --\n"
     ]
    }
   ],
   "source": [
    "nn = Neural_Network(neurons=300,epochs=0,batchsize=5000)\n",
    "nn.train(TRAINING)"
   ]
  },
  {
   "cell_type": "markdown",
   "metadata": {},
   "source": [
    "## K-MEANS"
   ]
  },
  {
   "cell_type": "markdown",
   "metadata": {},
   "source": [
    "#### Find nearest centroid given a value"
   ]
  },
  {
   "cell_type": "code",
   "execution_count": 7,
   "metadata": {},
   "outputs": [],
   "source": [
    "def nearest_centroid_index(centers,value):\n",
    "    centers = np.asarray(centers)\n",
    "    idx = (np.abs(centers - value)).argmin()\n",
    "    return idx\n",
    "\n",
    "def nearest_centroid(centers,value):\n",
    "    centers = np.asarray(centers)\n",
    "    idx = (np.abs(centers - value)).argmin()\n",
    "    return centers[idx]"
   ]
  },
  {
   "cell_type": "markdown",
   "metadata": {},
   "source": [
    "#### Building clusters with pre trained weights"
   ]
  },
  {
   "cell_type": "code",
   "execution_count": 84,
   "metadata": {},
   "outputs": [
    {
     "data": {
      "text/plain": [
       "KMeans(algorithm='auto', copy_x=True, init='k-means++', max_iter=300,\n",
       "    n_clusters=25, n_init=10, n_jobs=1, precompute_distances='auto',\n",
       "    random_state=42, tol=0.0001, verbose=0)"
      ]
     },
     "execution_count": 84,
     "metadata": {},
     "output_type": "execute_result"
    }
   ],
   "source": [
    "nn_weights = nn.getWeights()\n",
    "\n",
    "def reshape_weights_for_kmeans(weights):\n",
    "    return np.append(np.hstack(nn_weights[0]),np.hstack(nn_weights[1])).reshape(-1,1)\n",
    "\n",
    "def build_clusters(cluster,weights):\n",
    "    kmeans = KMeans(n_clusters=cluster,random_state=RANDOM_SEED)\n",
    "    kmeans.fit(reshape_weights_for_kmeans(weights))\n",
    "    return kmeans\n",
    "\n",
    "build_clusters(25,nn_weights)"
   ]
  },
  {
   "cell_type": "markdown",
   "metadata": {},
   "source": [
    "#### Redifine weights matrix for pre train"
   ]
  },
  {
   "cell_type": "code",
   "execution_count": 10,
   "metadata": {},
   "outputs": [],
   "source": [
    "def redefine_weights(centers,weights):\n",
    "        arr_ret = np.empty_like(weights)\n",
    "        for k,w in enumerate(weights):\n",
    "            arr_int = np.empty_like(w)\n",
    "            for i, row in enumerate(w):\n",
    "                for j, col in enumerate(row):\n",
    "                    arr_int[i,j] = nearest_centroid(centers,w[i,j])\n",
    "            arr_ret[k] = arr_int\n",
    "        return arr_ret"
   ]
  },
  {
   "cell_type": "markdown",
   "metadata": {},
   "source": [
    "#### Mean of distance between elements in centroid"
   ]
  },
  {
   "cell_type": "code",
   "execution_count": 12,
   "metadata": {},
   "outputs": [],
   "source": [
    "def mean_distance(weights,centroids):\n",
    "    tot = 0.\n",
    "    for k,wei in enumerate(weights):\n",
    "        for i, row in enumerate(wei):\n",
    "            for j, col in enumerate(row):\n",
    "                weight = wei[i,j]\n",
    "                centroid = nearest_centroid(centroids,weight)[0]\n",
    "                tot += np.sqrt((weight - centroid)**2)\n",
    "    return tot / ((k+1)*(i+1)*(j+1))"
   ]
  },
  {
   "cell_type": "markdown",
   "metadata": {},
   "source": [
    "#### Mean with different clusters number"
   ]
  },
  {
   "cell_type": "code",
   "execution_count": 13,
   "metadata": {},
   "outputs": [
    {
     "name": "stdout",
     "output_type": "stream",
     "text": [
      "Mean for 001 clusters 1.333229 (0m2s) \n",
      "Mean for 002 clusters 1.229275 (0m4s) \n",
      "Mean for 003 clusters 0.855299 (0m7s) \n",
      "Mean for 004 clusters 0.810955 (0m12s) \n",
      "Mean for 005 clusters 0.696510 (0m18s) \n",
      "Mean for 006 clusters 0.608810 (0m24s) \n",
      "Mean for 007 clusters 0.514373 (0m31s) \n",
      "Mean for 008 clusters 0.458859 (0m38s) \n",
      "Mean for 009 clusters 0.423324 (0m47s) \n",
      "Mean for 010 clusters 0.392233 (1m0s) \n"
     ]
    }
   ],
   "source": [
    "def find_clusters_number(values,n_from,n_to,n_jump):\n",
    "    start_time = dt.datetime.now()\n",
    "    RANDOM_SEED = 42\n",
    "    result = {}\n",
    "    for i in range(n_from,n_to+1,n_jump):\n",
    "        kmeans = KMeans(n_clusters=i,random_state=RANDOM_SEED)\n",
    "        kmeans.fit(reshape_weights_for_kmeans(values))\n",
    "        mean = mean_distance(values,kmeans.cluster_centers_)\n",
    "        result[i] = mean\n",
    "        print(\"Mean for %s clusters %f (%s) \" % (str(i).zfill(3),mean,eta_from_start(start_time)))\n",
    "    return result\n",
    "\n",
    "def eta_from_start(start_time):\n",
    "    diff = dt.datetime.now() - start_time\n",
    "    eta = divmod(diff.days * 86400 + diff.seconds, 60)\n",
    "    return str(eta[0])+\"m\"+str(eta[1])+\"s\"\n",
    "        \n",
    "means_cluster_1_10 = find_clusters_number(nn_weights,1,10,1)"
   ]
  },
  {
   "cell_type": "markdown",
   "metadata": {},
   "source": [
    "#### Reading from JSON"
   ]
  },
  {
   "cell_type": "code",
   "execution_count": 85,
   "metadata": {},
   "outputs": [
    {
     "data": {
      "image/png": "[encoded data removed]",
      "text/plain": [
       "<matplotlib.figure.Figure at 0x1a2c255320>"
      ]
     },
     "metadata": {},
     "output_type": "display_data"
    }
   ],
   "source": [
    "def get_data_from_json(file):\n",
    "    with open(file) as f:\n",
    "        return json.load(f)\n",
    "    \n",
    "def get_list_values_from_json(data,field,variable):\n",
    "    return [element[field] for element in data[variable]]\n",
    "\n",
    "data = get_data_from_json('log/Log_Cluster_Setting_Mean.json')\n",
    "x = get_list_values_from_json(data,\"cluster\",\"cluster_mean\")\n",
    "y = get_list_values_from_json(data,\"mean\",\"cluster_mean\")\n",
    "\n",
    "plt.plot(x[:10],y[:10])\n",
    "plt.show()"
   ]
  },
  {
   "cell_type": "markdown",
   "metadata": {},
   "source": [
    "## Neural Network with Pre-Trained Weights (K-Means)"
   ]
  },
  {
   "cell_type": "code",
   "execution_count": 56,
   "metadata": {},
   "outputs": [],
   "source": [
    "class Neural_Network_KMeans_PreTrained:\n",
    "\n",
    "    def __init__(self, neurons=100, epochs=0, batchsize=1000, cluster=10, pre_weights=None, verbose=True):\n",
    "        \n",
    "        start_setting_time = dt.datetime.now()\n",
    "        \n",
    "        self.input_size = N_FEATURES\n",
    "        self.output_size = N_CLASSES\n",
    "        self.neurons = neurons\n",
    "        self.batchsize = batchsize\n",
    "        self.verbose = verbose\n",
    "        self.cluster = cluster\n",
    "        self.iteration = 0\n",
    "        \n",
    "        # Decide training method (epochs or convergence)\n",
    "        self.epochs = epochs\n",
    "        if epochs == 0:\n",
    "            self.best = 0.\n",
    "            self.same = 0\n",
    "            \n",
    "        # Initialize clusters for pre-trained weights\n",
    "        if pre_weights != None and cluster != 0:\n",
    "            self.dict_centroid = {}\n",
    "            self.k_means = build_clusters(cluster,pre_weights)\n",
    "            for i,c in enumerate(self.k_means.cluster_centers_):\n",
    "                self.dict_centroid[i] = c[0]\n",
    "            self.layers = redefine_weights(self.k_means.cluster_centers_,pre_weights)\n",
    "        else:\n",
    "            np.random.seed(RANDOM_SEED)\n",
    "            hidden_layer = np.random.rand(self.neurons, self.input_size + 1) / self.neurons\n",
    "            output_layer = np.random.rand(self.output_size, self.neurons + 1) / self.output_size\n",
    "            self.layers = [hidden_layer, output_layer]\n",
    "            \n",
    "        end_setting_time = dt.datetime.now() - start_setting_time\n",
    "        eta = divmod(end_setting_time.days * 86400 + end_setting_time.seconds, 60)\n",
    "        self.eta_print_setting = str(eta[0])+\"m\"+str(eta[1])+\"s\"\n",
    "        self.space_weights = sys.getsizeof(np.append(np.hstack(self.layers[0]),np.hstack(self.layers[1])))\n",
    "        if self.verbose:\n",
    "            print(\"--- Setting Time: %s ---\" % self.eta_print_setting)\n",
    "            print(\"--- Space in Memory: %s bytes ---\\n\" % self.space_weights)\n",
    " \n",
    "\n",
    "    def train(self, training):\n",
    "        \n",
    "        # Start prints \n",
    "        self.start_time = dt.datetime.now()\n",
    "        if self.verbose:\n",
    "            print('-- Training Session Start (%s) --' % (self.start_time))\n",
    "            typeTrainingPrint = \"Epochs: \"+str(self.epochs)\n",
    "            if self.epochs == 0:\n",
    "                typeTrainingPrint = \"Until 5 iterations w/o improvements\";\n",
    "            print('\\nNeurons: %d\\nBatch Size: %d\\n%s\\n' % (self.neurons,self.batchsize,typeTrainingPrint))\n",
    "        \n",
    "        # Divide training batches\n",
    "        inputs = training[0][0:self.batchsize]\n",
    "        targets = np.zeros((self.batchsize, 10))\n",
    "        for i in range(self.batchsize):\n",
    "            targets[i, training[1][i]] = 1\n",
    "\n",
    "        # Performs iterations\n",
    "        while (self.epochs == 0 and self.same < 10) or (self.iteration < self.epochs):\n",
    "            for input_vector, target_vector in zip(inputs, targets):\n",
    "                self.backpropagate(input_vector, target_vector)\n",
    "                \n",
    "            # ETA\n",
    "            diff = dt.datetime.now() - self.start_time\n",
    "            eta = divmod(diff.days * 86400 + diff.seconds, 60)\n",
    "            if eta[0] != 0:\n",
    "                etaPrint = str(eta[0])+\"m\"\n",
    "            else:\n",
    "                etaPrint = \"\"\n",
    "            etaPrint += str(eta[1])+\"s\"\n",
    "            \n",
    "            # Accuracy\n",
    "            accu = self.accu(TESTING)\n",
    "            self.iteration += 1\n",
    "            \n",
    "            # Messages\n",
    "            if self.verbose and (self.iteration == 1 or self.iteration % 10 == 0 or self.iteration == self.epochs):\n",
    "                self.print_message_iter(self.iteration,accu,etaPrint)\n",
    "            \n",
    "            # Control coverange\n",
    "            if self.epochs == 0:\n",
    "                if accu[0] > self.best:\n",
    "                    self.same = 0\n",
    "                    self.best = accu[0]\n",
    "                else:\n",
    "                    self.same += 1\n",
    "                \n",
    "        # Print last epoch in convergence situation\n",
    "        if self.iteration % 10 != 0 and self.verbose:\n",
    "            self.print_message_iter(self.iteration,accu,etaPrint)\n",
    "\n",
    "        # Final message\n",
    "        if self.verbose:\n",
    "            print('\\n-- Training Session End (%s) --' % (dt.datetime.now()))\n",
    "        else:\n",
    "            setting_time = self.minsec2sec(self.eta_print_setting)\n",
    "            train_time = self.minsec2sec(etaPrint)\n",
    "            print(\"{\")\n",
    "            print(\"\\\"neuron\\\" : %d,\\n\\\"epoch\\\" : %d,\\n\\\"batch\\\" : %d,\\n\\\"cluster\\\" : %d,\\n\\\"setting_time\\\" : %d,\\n\\\"train_time\\\" : %d,\\n\\\"space\\\" : %d,\\n\\\"accuracy\\\" : %.4f,\\n\\\"minimun\\\" : %.4f\" % (self.neurons,self.iteration,self.batchsize,self.cluster,setting_time,train_time,self.space_weights,accu[1]/100,accu[0]/100))\n",
    "            print(\"}\")\n",
    "\n",
    "    def feed_forward(self, input_vector):\n",
    "        \"\"\"Takes a network (Matrix list) and returns the outputs of both\n",
    "         layers by propagating the entry\"\"\"\n",
    "        outputs = []\n",
    "        for layer in self.layers:\n",
    "            input_with_bias = np.append(input_vector, 1)   # Ajout constante\n",
    "            output = np.inner(layer, input_with_bias)\n",
    "            output = special.expit(output)\n",
    "            outputs.append(output)\n",
    "            # The output is the input of the next layer\n",
    "            input_vector = output\n",
    "        return outputs\n",
    "\n",
    "    def backpropagate(self, input_vector, target):\n",
    "        \"\"\"Reduce error for one input vector:\n",
    "        Calculating the partial derivatives for each coeff then subtracts\"\"\"\n",
    "        c = 1./(self.iteration + 10)  # Learning coefficient\n",
    "        hidden_outputs, outputs = self.feed_forward(input_vector)\n",
    "\n",
    "        # Calculation of partial derivatives for the output layer and subtraction\n",
    "        output_deltas = outputs * (1 - outputs) * (outputs - target)\n",
    "        self.layers[-1] -= c*np.outer(output_deltas, np.append(hidden_outputs, 1))\n",
    "\n",
    "        # Calculation of partial derivatives for the hidden layer and subtraction\n",
    "        hidden_deltas = hidden_outputs * (1 - hidden_outputs) * \\\n",
    "            np.dot(np.delete(self.layers[-1], 200, 1).T, output_deltas)\n",
    "        self.layers[0] -= c*np.outer(hidden_deltas, np.append(input_vector, 1))\n",
    "\n",
    "    def predict(self, input_vector):\n",
    "        return self.feed_forward(input_vector)[-1]\n",
    "\n",
    "    def predict_one(self, input_vector):\n",
    "        return np.argmax(self.feed_forward(input_vector)[-1])\n",
    "\n",
    "    def load(self, file_name):\n",
    "        f = open(file_name, 'rb')\n",
    "        self.layers = pickle.load(f, encoding='latin1')\n",
    "        f.close()\n",
    "\n",
    "    def accu(self, testing):\n",
    "        \"\"\"The lowest precision digit and total\"\"\"\n",
    "        res = np.zeros((10, 2))\n",
    "        for k in range(len(testing[1])):\n",
    "            if self.predict_one(testing[0][k]) == testing[1][k]:\n",
    "                res[testing[1][k]] += 1\n",
    "            else:\n",
    "                res[testing[1][k]][1] += 1\n",
    "        total = np.sum(res, axis=0)\n",
    "        each = [res[k][0]/res[k][1] for k in range(len(res))]\n",
    "        min_c = sorted(range(len(each)), key=lambda k: each[k])[0]\n",
    "        return np.round([each[min_c]*100, total[0]/total[1]*100, min_c], 2)\n",
    "    \n",
    "    def print_message_iter(self,iteration,accu,eta):\n",
    "        len_eta = len(eta)\n",
    "        space_fill = 6 - len_eta\n",
    "        eta = \"(\"+eta+\")\"\n",
    "        for _ in range(space_fill):\n",
    "            eta += \" \"\n",
    "        message = 'Epoch '+str(self.iteration).zfill(3) + \" \"+eta+\" \"\n",
    "        message += 'Precision G:'+str(accu[1]).zfill(4)+'%\\tMin:'+ str(accu[0]).zfill(4)+ '% ('+str(int(accu[2]))+')'\n",
    "        print(message)\n",
    "        \n",
    "    def getWeights(self):\n",
    "        return self.layers\n",
    "    \n",
    "    def minsec2sec(self,time):\n",
    "        if 'm' in time:\n",
    "            splitted = time.split('m')\n",
    "            return int(splitted[0]) * 60 + int(splitted[1][:-1])\n",
    "        else:\n",
    "            return int(time[:-1])\n",
    "            "
   ]
  },
  {
   "cell_type": "code",
   "execution_count": 87,
   "metadata": {
    "scrolled": true
   },
   "outputs": [
    {
     "name": "stdout",
     "output_type": "stream",
     "text": [
      "--- Setting Time: 0m2s ---\n",
      "--- Space in Memory: 1908176 bytes ---\n",
      "\n",
      "-- Training Session Start (2018-07-03 16:42:05.269649) --\n",
      "\n",
      "Neurons: 300\n",
      "Batch Size: 5000\n",
      "Until 5 iterations w/o improvements\n",
      "\n",
      "Epoch 001 (4s)     Precision G:91.69%\tMin:86.04% (3)\n",
      "Epoch 010 (52s)    Precision G:92.76%\tMin:88.01% (9)\n",
      "Epoch 020 (1m44s)  Precision G:93.12%\tMin:88.4% (9)\n",
      "Epoch 024 (2m4s)   Precision G:93.16%\tMin:88.31% (9)\n",
      "\n",
      "-- Training Session End (2018-07-03 16:44:10.681219) --\n"
     ]
    }
   ],
   "source": [
    "nn_km_pt = Neural_Network_KMeans_PreTrained(300,0,5000,3,nn_weights,verbose=True)\n",
    "nn_km_pt.train(TRAINING)"
   ]
  },
  {
   "cell_type": "code",
   "execution_count": 77,
   "metadata": {},
   "outputs": [
    {
     "data": {
      "image/png": "[encoded data removed]",
      "text/plain": [
       "<matplotlib.figure.Figure at 0x108b4c240>"
      ]
     },
     "metadata": {},
     "output_type": "display_data"
    }
   ],
   "source": [
    "def get_data_from_json(file):\n",
    "    with open(file) as f:\n",
    "        return json.load(f)\n",
    "    \n",
    "def get_list_values_from_json(data,field,variable):\n",
    "    return [element[field] for element in data[variable]]\n",
    "\n",
    "data = get_data_from_json('Log_KMeans_PreTrained.json')\n",
    "x = get_list_values_from_json(data,\"cluster\",\"nn_kmeans_pre_trained\")\n",
    "y = get_list_values_from_json(data,\"train_time\",\"nn_kmeans_pre_trained\")\n",
    "\n",
    "plt.plot(x,y)\n",
    "plt.xlabel('Cluster')\n",
    "plt.ylabel('Train Time (s)')\n",
    "plt.show()"
   ]
  },
  {
   "cell_type": "code",
   "execution_count": null,
   "metadata": {},
   "outputs": [],
   "source": []
  }
 ],
 "metadata": {
  "kernelspec": {
   "display_name": "Python 3",
   "language": "python",
   "name": "python3"
  },
  "language_info": {
   "codemirror_mode": {
    "name": "ipython",
    "version": 3
   },
   "file_extension": ".py",
   "mimetype": "text/x-python",
   "name": "python",
   "nbconvert_exporter": "python",
   "pygments_lexer": "ipython3",
   "version": "3.6.4"
  },
  "widgets": {
   "application/vnd.jupyter.widget-state+json": {
    "state": {},
    "version_major": 2,
    "version_minor": 0
   }
  }
 },
 "nbformat": 4,
 "nbformat_minor": 2
}
